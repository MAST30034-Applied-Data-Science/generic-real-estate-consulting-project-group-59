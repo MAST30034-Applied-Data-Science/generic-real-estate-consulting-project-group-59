{
 "cells": [
  {
   "cell_type": "code",
   "execution_count": 1,
   "id": "c8d11873",
   "metadata": {},
   "outputs": [],
   "source": [
    "import pandas as pd\n",
    "from urllib.request import urlretrieve\n",
    "import os"
   ]
  },
  {
   "cell_type": "code",
   "execution_count": 2,
   "id": "025965fa",
   "metadata": {},
   "outputs": [],
   "source": [
    "urls = ['https://www.abs.gov.au/statistics/people/population/regional-population-age-and-sex/2021/32350DS0001_2021.xlsx', \\\n",
    "       'https://www.abs.gov.au/statistics/people/population/deaths-australia/2020/33020DO005_2020.xlsx', \\\n",
    "       'https://www.abs.gov.au/statistics/people/education/schools/2021/Table%2035b%20Counts%20of%20all%20Schools%2C%202010-2021.xlsx']\n",
    "\n",
    "names = ['age_sex', 'pop_deaths', 'education']"
   ]
  },
  {
   "cell_type": "code",
   "execution_count": 3,
   "id": "73448dcb",
   "metadata": {},
   "outputs": [],
   "source": [
    "# Creates raw_data folder\n",
    "output_relative_dir = '../raw_data/'\n",
    "if not os.path.exists(output_relative_dir):\n",
    "    os.makedirs(output_relative_dir)\n",
    "    \n",
    "# Creates abs_data folder within raw_data\n",
    "if not os.path.exists(output_relative_dir + 'abs_data'):\n",
    "    os.makedirs(output_relative_dir + 'abs_data')"
   ]
  },
  {
   "cell_type": "code",
   "execution_count": 4,
   "id": "0413e347",
   "metadata": {},
   "outputs": [],
   "source": [
    "abs_output_dir = output_relative_dir + 'abs_data'"
   ]
  },
  {
   "cell_type": "code",
   "execution_count": 5,
   "id": "2a1efe9e",
   "metadata": {},
   "outputs": [],
   "source": [
    "i = 0\n",
    "for url in urls:\n",
    "    output_dir = f\"{abs_output_dir}/{names[i]}.xlsx\"\n",
    "    urlretrieve(url, output_dir)\n",
    "    i += 1"
   ]
  },
  {
   "cell_type": "markdown",
   "id": "38522ea0",
   "metadata": {},
   "source": [
    "# Manual steps required:\n",
    "\n",
    "- Open the age_sex and pop_deaths .xlsx files\n",
    "- "
   ]
  },
  {
   "cell_type": "markdown",
   "id": "06ffdf9b",
   "metadata": {},
   "source": [
    "## Reading in pop_deaths -"
   ]
  },
  {
   "cell_type": "code",
   "execution_count": 8,
   "id": "3f8195a0",
   "metadata": {},
   "outputs": [],
   "source": [
    "sheets = [2]\n",
    "''', 2, 3, 4, 5, 6, 7'''\n",
    "df = pd.read_excel('../raw_data/abs_data/pop_deaths.xlsx', sheet_name = sheets)"
   ]
  },
  {
   "cell_type": "code",
   "execution_count": 119,
   "id": "3f1e8cab",
   "metadata": {},
   "outputs": [],
   "source": [
    "df = pd.read_excel('../raw_data/abs_data/pop_deaths.xlsx', sheet_name=1, skiprows=4, header=[0,1], nrows=129)[1:]\n",
    "df = df.drop([(y, 'Standardised death rate.1') for y in range(2012, 2020)], axis=1)\n",
    "df = df.drop([(y, 'Standardised death rate') for y in range(2012, 2021)], axis=1)\n",
    "df.columns = [('LGA Code'), ('LGA Name')] + [','.join([str(c) for c in x]) for x in df.columns[2:]]\n",
    "df2 = df.melt(id_vars=[\"LGA Code\", \"LGA Name\"])\n",
    "df2['value'] = df2.value.astype('int')\n",
    "df2[['year','var']] = df2['variable'].str.split(',').tolist()\n",
    "df2 = df2.sort_values('year')"
   ]
  },
  {
   "cell_type": "code",
   "execution_count": 129,
   "id": "5cf16083",
   "metadata": {},
   "outputs": [],
   "source": [
    "# import seaborn as sns\n",
    "# sns.scatterplot(df2.query(\"var=='Estimated resident population'\"), x='year', y='value', hue='LGA Name')"
   ]
  },
  {
   "cell_type": "code",
   "execution_count": 120,
   "id": "54ce047c",
   "metadata": {},
   "outputs": [
    {
     "data": {
      "text/plain": [
       "0            NaN\n",
       "126          NaN\n",
       "34           NaN\n",
       "35           NaN\n",
       "36           NaN\n",
       "          ...   \n",
       "2137   -0.007213\n",
       "2138    0.012455\n",
       "2139    0.015675\n",
       "2140    0.017003\n",
       "2174    0.001449\n",
       "Name: value, Length: 1152, dtype: float64"
      ]
     },
     "execution_count": 120,
     "metadata": {},
     "output_type": "execute_result"
    }
   ],
   "source": [
    "df2.query(\"var=='Estimated resident population'\").groupby(['LGA Code', 'LGA Name'])['value'].apply(pd.Series.pct_change)"
   ]
  }
 ],
 "metadata": {
  "kernelspec": {
   "display_name": "Python 3 (ipykernel)",
   "language": "python",
   "name": "python3"
  },
  "language_info": {
   "codemirror_mode": {
    "name": "ipython",
    "version": 3
   },
   "file_extension": ".py",
   "mimetype": "text/x-python",
   "name": "python",
   "nbconvert_exporter": "python",
   "pygments_lexer": "ipython3",
   "version": "3.9.5"
  },
  "toc": {
   "base_numbering": 1,
   "nav_menu": {},
   "number_sections": true,
   "sideBar": true,
   "skip_h1_title": false,
   "title_cell": "Table of Contents",
   "title_sidebar": "Contents",
   "toc_cell": false,
   "toc_position": {},
   "toc_section_display": true,
   "toc_window_display": false
  }
 },
 "nbformat": 4,
 "nbformat_minor": 5
}
