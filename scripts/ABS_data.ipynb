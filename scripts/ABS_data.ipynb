{
 "cells": [
  {
   "cell_type": "code",
   "execution_count": 15,
   "id": "c8d11873",
   "metadata": {},
   "outputs": [],
   "source": [
    "import pandas as pd\n",
    "from urllib.request import urlretrieve\n",
    "import os"
   ]
  },
  {
   "cell_type": "code",
   "execution_count": 20,
   "id": "025965fa",
   "metadata": {},
   "outputs": [],
   "source": [
    "urls = ['https://www.abs.gov.au/statistics/people/population/regional-population-age-and-sex/2021/32350DS0001_2021.xlsx', \\\n",
    "       'https://www.abs.gov.au/statistics/people/population/deaths-australia/2020/33020DO005_2020.xlsx', \\\n",
    "       'https://www.abs.gov.au/statistics/people/education/schools/2021/Table%2035b%20Counts%20of%20all%20Schools%2C%202010-2021.xlsx']\n",
    "\n",
    "names = ['age_sex', 'pop_deaths', 'education']"
   ]
  },
  {
   "cell_type": "code",
   "execution_count": 17,
   "id": "73448dcb",
   "metadata": {},
   "outputs": [],
   "source": [
    "# Creates raw_data folder\n",
    "output_relative_dir = '../raw_data/'\n",
    "if not os.path.exists(output_relative_dir):\n",
    "    os.makedirs(output_relative_dir)\n",
    "    \n",
    "# Creates abs_data folder within raw_data\n",
    "if not os.path.exists(output_relative_dir + 'abs_data'):\n",
    "    os.makedirs(output_relative_dir + 'abs_data')"
   ]
  },
  {
   "cell_type": "code",
   "execution_count": 19,
   "id": "0413e347",
   "metadata": {},
   "outputs": [],
   "source": [
    "abs_output_dir = output_relative_dir + 'abs_data'"
   ]
  },
  {
   "cell_type": "code",
   "execution_count": 21,
   "id": "2a1efe9e",
   "metadata": {},
   "outputs": [],
   "source": [
    "i = 0\n",
    "for url in urls:\n",
    "    output_dir = f\"{abs_output_dir}/{names[i]}.xlsx\"\n",
    "    urlretrieve(url, output_dir)\n",
    "    i += 1"
   ]
  },
  {
   "cell_type": "markdown",
   "id": "38522ea0",
   "metadata": {},
   "source": [
    "# Manual steps required:\n",
    "\n",
    "- Open the age_sex and pop_deaths .xlsx files\n",
    "- "
   ]
  },
  {
   "cell_type": "markdown",
   "id": "06ffdf9b",
   "metadata": {},
   "source": [
    "## Reading in pop_deaths -"
   ]
  },
  {
   "cell_type": "code",
   "execution_count": 30,
   "id": "3f8195a0",
   "metadata": {},
   "outputs": [],
   "source": [
    "sheets = [1]\n",
    "''', 2, 3, 4, 5, 6, 7'''\n",
    "df = pd.read_excel('../raw_data/abs_data/pop_deaths.xlsx', sheet_name = sheets)"
   ]
  }
 ],
 "metadata": {
  "kernelspec": {
   "display_name": "Python 3 (ipykernel)",
   "language": "python",
   "name": "python3"
  },
  "language_info": {
   "codemirror_mode": {
    "name": "ipython",
    "version": 3
   },
   "file_extension": ".py",
   "mimetype": "text/x-python",
   "name": "python",
   "nbconvert_exporter": "python",
   "pygments_lexer": "ipython3",
   "version": "3.8.10"
  }
 },
 "nbformat": 4,
 "nbformat_minor": 5
}
