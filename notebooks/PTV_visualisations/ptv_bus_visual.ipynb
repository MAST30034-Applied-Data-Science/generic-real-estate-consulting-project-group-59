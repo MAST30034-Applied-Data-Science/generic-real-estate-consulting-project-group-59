{
 "cells": [
  {
   "cell_type": "code",
   "execution_count": 1,
   "metadata": {},
   "outputs": [],
   "source": [
    "import fiona\n",
    "import folium\n",
    "import geopandas as gpd\n",
    "import pandas as pd"
   ]
  },
  {
   "cell_type": "code",
   "execution_count": 7,
   "metadata": {},
   "outputs": [],
   "source": [
    "gdf_REGIONAL_BUS= gpd.read_file('../../data/raw/PTV DATA/ll_gda94/filegdb/whole_of_dataset/victoria/PUBLIC_TRANSPORT.gdb', \n",
    "layer='PTV_REGIONAL_BUS_STOP')\n",
    "\n",
    "gdf_METRO_BUS= gpd.read_file('../../data/raw/PTV DATA/ll_gda94/filegdb/whole_of_dataset/victoria/PUBLIC_TRANSPORT.gdb', \n",
    "layer='PTV_METRO_BUS_STOP')\n",
    "\n",
    "gdf_SKYBUS= gpd.read_file('../../data/raw/PTV DATA/ll_gda94/filegdb/whole_of_dataset/victoria/PUBLIC_TRANSPORT.gdb', \n",
    "layer='PTV_SKYBUS_STOP')\n",
    "\n",
    "gdf_REGIONAL_COACH= gpd.read_file('../../data/raw/PTV DATA/ll_gda94/filegdb/whole_of_dataset/victoria/PUBLIC_TRANSPORT.gdb', \n",
    "layer='PTV_REGIONAL_COACH_STOP')"
   ]
  },
  {
   "cell_type": "code",
   "execution_count": 3,
   "metadata": {},
   "outputs": [],
   "source": [
    "map_bus = folium.Map(location=[-36.85, 144.28], zoom_start=6)\n",
    "\n",
    "df_REGIONAL_BUS_stops = pd.DataFrame({'STOP_ID': gdf_REGIONAL_BUS['STOP_ID'], 'geometry': gdf_REGIONAL_BUS['geometry'], \n",
    "'type': pd.Series([\"REGIONAL_BUS\" for x in range(len(gdf_REGIONAL_BUS.index))])})\n",
    "\n",
    "df_METRO_BUS = pd.DataFrame({'STOP_ID': gdf_METRO_BUS['STOP_ID'], 'geometry': gdf_METRO_BUS['geometry'], \n",
    "'type': pd.Series([\"METRO_BUS\" for x in range(len(gdf_METRO_BUS.index))])})\n",
    "\n",
    "df_SKYBUS = pd.DataFrame({'STOP_ID': gdf_SKYBUS['STOP_ID'], 'geometry': gdf_SKYBUS['geometry'], \n",
    "'type': pd.Series([\"SKYBUS\" for x in range(len(gdf_SKYBUS.index))])})\n",
    "\n",
    "df_REGIONAL_COACH = pd.DataFrame({'STOP_ID': gdf_REGIONAL_COACH['STOP_ID'], 'geometry': gdf_REGIONAL_COACH['geometry'], \n",
    "'type': pd.Series([\"REGIONAL_COACH\" for x in range(len(gdf_REGIONAL_COACH.index))])})\n",
    "\n",
    "df_bus_stops = pd.concat([df_REGIONAL_BUS_stops, df_METRO_BUS, df_SKYBUS, df_REGIONAL_COACH], axis=0)"
   ]
  },
  {
   "cell_type": "code",
   "execution_count": 4,
   "metadata": {},
   "outputs": [
    {
     "name": "stderr",
     "output_type": "stream",
     "text": [
      "/tmp/ipykernel_661/2811436709.py:10: UserWarning: color argument of Icon should be one of: {'blue', 'lightred', 'lightblue', 'orange', 'red', 'lightgreen', 'pink', 'cadetblue', 'green', 'darkblue', 'darkgreen', 'purple', 'gray', 'black', 'white', 'beige', 'darkpurple', 'darkred', 'lightgray'}.\n",
      "  icon=folium.Icon(color = \"yellow\")))\n"
     ]
    }
   ],
   "source": [
    "# Create a geometry list from the GeoDataFrame\n",
    "geo_df_list = [[point.xy[1][0], point.xy[0][0]] for point in df_bus_stops.geometry]\n",
    "\n",
    "# Iterate through list and add a marker for each volcano, color-coded by its type.\n",
    "i = 0\n",
    "for coordinates in geo_df_list:\n",
    "    # Place the markers with the popup labels and data\n",
    "    map_bus.add_child(folium.Marker(location = coordinates,\n",
    "                            popup='BUS',\n",
    "                            icon=folium.Icon(color = \"yellow\")))\n",
    "    i = i + 1"
   ]
  },
  {
   "cell_type": "code",
   "execution_count": 5,
   "metadata": {},
   "outputs": [],
   "source": [
    "gdf_REGIONAL_BUS_ROUTE = gpd.read_file('PTV DATA/ll_gda94/filegdb/whole_of_dataset/victoria/PUBLIC_TRANSPORT.gdb', \n",
    "layer='PTV_REGIONAL_BUS_ROUTE')\n",
    "\n",
    "geoJSON_REGIONAL_BUS_ROUTE = gdf_REGIONAL_BUS_ROUTE[['ROUTE_ID', 'geometry']].to_json()\n",
    "\n",
    "map_bus.add_child(folium.Choropleth(\n",
    "    geo_data=geoJSON_REGIONAL_BUS_ROUTE,\n",
    "    name='choropleth',\n",
    "    line_color='red'\n",
    "))\n",
    "\n",
    "gdf_METRO_BUS_ROUTE = gpd.read_file('PTV DATA/ll_gda94/filegdb/whole_of_dataset/victoria/PUBLIC_TRANSPORT.gdb', \n",
    "layer='PTV_METRO_BUS_ROUTE')\n",
    "\n",
    "geoJSON_METRO_BUS_ROUTE = gdf_METRO_BUS_ROUTE[['ROUTE_ID', 'geometry']].to_json()\n",
    "\n",
    "map_bus.add_child(folium.Choropleth(\n",
    "    geo_data=geoJSON_METRO_BUS_ROUTE,\n",
    "    name='choropleth',\n",
    "    line_color='red'\n",
    "))\n",
    "\n",
    "gdf_SKYBUS_ROUTE = gpd.read_file('PTV DATA/ll_gda94/filegdb/whole_of_dataset/victoria/PUBLIC_TRANSPORT.gdb', \n",
    "layer='PTV_SKYBUS_ROUTE')\n",
    "\n",
    "geoJSON_SKYBUS_ROUTE = gdf_SKYBUS_ROUTE[['ROUTE_ID', 'geometry']].to_json()\n",
    "\n",
    "map_bus.add_child(folium.Choropleth(\n",
    "    geo_data=geoJSON_SKYBUS_ROUTE,\n",
    "    name='choropleth',\n",
    "    line_color='red'\n",
    "))\n",
    "\n",
    "gdf_REGIONAL_COACH_ROUTE = gpd.read_file('PTV DATA/ll_gda94/filegdb/whole_of_dataset/victoria/PUBLIC_TRANSPORT.gdb', \n",
    "layer='PTV_REGIONAL_COACH_ROUTE')\n",
    "\n",
    "geoJSON_REGIONAL_COACH_ROUTE = gdf_REGIONAL_COACH_ROUTE[['ROUTE_ID', 'geometry']].to_json()\n",
    "\n",
    "map_bus.add_child(folium.Choropleth(\n",
    "    geo_data=geoJSON_REGIONAL_COACH_ROUTE,\n",
    "    name='choropleth',\n",
    "    line_color='red'\n",
    "))"
   ]
  }
 ],
 "metadata": {
  "kernelspec": {
   "display_name": "Python 3.8.13 ('ads')",
   "language": "python",
   "name": "python3"
  },
  "language_info": {
   "codemirror_mode": {
    "name": "ipython",
    "version": 3
   },
   "file_extension": ".py",
   "mimetype": "text/x-python",
   "name": "python",
   "nbconvert_exporter": "python",
   "pygments_lexer": "ipython3",
   "version": "3.8.13"
  },
  "orig_nbformat": 4,
  "vscode": {
   "interpreter": {
    "hash": "3b4ea10016098d5ca18cdcadb80706d14952c307628f09f11f21b3bbdec48c39"
   }
  }
 },
 "nbformat": 4,
 "nbformat_minor": 2
}
