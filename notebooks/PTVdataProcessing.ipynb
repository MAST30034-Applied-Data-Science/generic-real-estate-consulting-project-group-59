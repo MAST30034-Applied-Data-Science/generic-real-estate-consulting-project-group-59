{
 "cells": [
  {
   "cell_type": "code",
   "execution_count": 1,
   "metadata": {},
   "outputs": [],
   "source": [
    "import fiona\n",
    "import geopandas as gpd\n",
    "import pandas as pd"
   ]
  },
  {
   "cell_type": "code",
   "execution_count": null,
   "metadata": {},
   "outputs": [],
   "source": [
    "ptv_layers = fiona.listlayers('PTV DATA/ll_gda94/filegdb/whole_of_dataset/victoria/PUBLIC_TRANSPORT.gdb')\n",
    "vmadmin_layers = fiona.listlayers('VIC admin/ll_gda2020/filegdb/whole_of_dataset/victoria/VMADMIN.gdb')\n",
    "\n",
    "gdf_AD_LOCALITY_AREA = gpd.read_file('VIC admin/ll_gda2020/filegdb/whole_of_dataset/victoria/VMADMIN.gdb', layer='AD_LOCALITY_AREA_POLYGON')\n",
    "gdf_vic = gdf_AD_LOCALITY_AREA[gdf_AD_LOCALITY_AREA['STATE'] == 'VIC']"
   ]
  },
  {
   "cell_type": "markdown",
   "metadata": {},
   "source": [
    "### tram"
   ]
  },
  {
   "cell_type": "code",
   "execution_count": 75,
   "metadata": {},
   "outputs": [],
   "source": [
    "gdf_METRO_TRAM = gpd.read_file('PTV DATA/ll_gda94/filegdb/whole_of_dataset/victoria/PUBLIC_TRANSPORT.gdb', \n",
    "layer='PTV_METRO_TRAM_STOP')\n",
    "\n",
    "df_vic_TRAM = pd.DataFrame(gdf_METRO_TRAM)\n",
    "\n",
    "df_vic_TRAM['suburb'] = df_vic_TRAM['STOP_NAME'].str.extract(r'(\\(.*\\))')\n",
    "df_vic_TRAM['suburb'] = df_vic_TRAM['suburb'].str.extract(r'([^\\(\\)]+)')\n",
    "\n",
    "# df_vic_TRAM.to_csv('processed_csv/tram.csv')"
   ]
  },
  {
   "cell_type": "markdown",
   "metadata": {},
   "source": [
    "### train"
   ]
  },
  {
   "cell_type": "code",
   "execution_count": null,
   "metadata": {},
   "outputs": [
    {
     "ename": "",
     "evalue": "",
     "output_type": "error",
     "traceback": [
      "\u001b[1;31mRunning cells with 'Python 3.8.10 64-bit' requires ipykernel package.\n",
      "\u001b[1;31mRun the following command to install 'ipykernel' into the Python environment. \n",
      "\u001b[1;31mCommand: '/bin/python3 -m pip install ipykernel -U --user --force-reinstall'"
     ]
    }
   ],
   "source": [
    "gdf_REGIONAL_TRAIN= gpd.read_file('PTV DATA/ll_gda94/filegdb/whole_of_dataset/victoria/PUBLIC_TRANSPORT.gdb', \n",
    "layer='PTV_REGIONAL_TRAIN_STATION')\n",
    "\n",
    "gdf_METRO_TRAIN = gpd.read_file('PTV DATA/ll_gda94/filegdb/whole_of_dataset/victoria/PUBLIC_TRANSPORT.gdb', \n",
    "layer='PTV_METRO_TRAIN_STATION')\n",
    "\n",
    "df_mtrain_stops = pd.DataFrame({'STOP_ID': gdf_METRO_TRAIN['STOP_ID'], 'STOP_NAME': gdf_METRO_TRAIN['STOP_NAME'], \n",
    "'geometry': gdf_METRO_TRAIN['geometry'], 'type': pd.Series([\"METRO_TRAIN\" for x in range(len(gdf_METRO_TRAIN.index))])})\n",
    "\n",
    "df_rtrain_stops = pd.DataFrame({'STOP_ID': gdf_REGIONAL_TRAIN['STOP_ID'], 'STOP_NAME': gdf_REGIONAL_TRAIN['STOP_NAME'],\n",
    "'geometry': gdf_REGIONAL_TRAIN['geometry'], 'type': pd.Series([\"REGIONAL_TRAIN\" for x in range(len(gdf_REGIONAL_TRAIN.index))])})\n",
    "\n",
    "df_train_stops = pd.concat([df_mtrain_stops, df_rtrain_stops], axis=0)\n",
    "\n",
    "df_train_stops['suburb'] = df_train_stops['STOP_NAME'].str.extract(r'(\\(.*\\))')\n",
    "df_train_stops['suburb'] = df_train_stops['suburb'].str.extract(r'([^\\(\\)]+)')\n",
    "\n",
    "# df_train_stops.to_csv('processed_csv/train.csv')"
   ]
  },
  {
   "cell_type": "markdown",
   "metadata": {},
   "source": [
    "### bus"
   ]
  },
  {
   "cell_type": "code",
   "execution_count": 86,
   "metadata": {},
   "outputs": [],
   "source": [
    "gdf_REGIONAL_BUS= gpd.read_file('PTV DATA/ll_gda94/filegdb/whole_of_dataset/victoria/PUBLIC_TRANSPORT.gdb', \n",
    "layer='PTV_REGIONAL_BUS_STOP')\n",
    "\n",
    "gdf_METRO_BUS= gpd.read_file('PTV DATA/ll_gda94/filegdb/whole_of_dataset/victoria/PUBLIC_TRANSPORT.gdb', \n",
    "layer='PTV_METRO_BUS_STOP')\n",
    "\n",
    "gdf_SKYBUS= gpd.read_file('PTV DATA/ll_gda94/filegdb/whole_of_dataset/victoria/PUBLIC_TRANSPORT.gdb', \n",
    "layer='PTV_SKYBUS_STOP')\n",
    "\n",
    "gdf_REGIONAL_COACH= gpd.read_file('PTV DATA/ll_gda94/filegdb/whole_of_dataset/victoria/PUBLIC_TRANSPORT.gdb', \n",
    "layer='PTV_REGIONAL_COACH_STOP')\n",
    "\n",
    "df_REGIONAL_BUS_stops = pd.DataFrame({'STOP_ID': gdf_REGIONAL_BUS['STOP_ID'], 'STOP_NAME': gdf_REGIONAL_BUS['STOP_NAME'], \n",
    "'geometry': gdf_REGIONAL_BUS['geometry'], 'type': pd.Series([\"REGIONAL_BUS\" for x in range(len(gdf_REGIONAL_BUS.index))])})\n",
    "\n",
    "df_METRO_BUS = pd.DataFrame({'STOP_ID': gdf_METRO_BUS['STOP_ID'], 'STOP_NAME': gdf_METRO_BUS['STOP_NAME'], \n",
    "'geometry': gdf_METRO_BUS['geometry'], 'type': pd.Series([\"METRO_BUS\" for x in range(len(gdf_METRO_BUS.index))])})\n",
    "\n",
    "df_SKYBUS = pd.DataFrame({'STOP_ID': gdf_SKYBUS['STOP_ID'], 'STOP_NAME': gdf_SKYBUS['STOP_NAME'], \n",
    "'geometry': gdf_SKYBUS['geometry'], 'type': pd.Series([\"SKYBUS\" for x in range(len(gdf_SKYBUS.index))])})\n",
    "\n",
    "df_REGIONAL_COACH = pd.DataFrame({'STOP_ID': gdf_REGIONAL_COACH['STOP_ID'], 'STOP_NAME': gdf_REGIONAL_COACH['STOP_NAME'],\n",
    "'geometry': gdf_REGIONAL_COACH['geometry'], 'type': pd.Series([\"REGIONAL_COACH\" for x in range(len(gdf_REGIONAL_COACH.index))])})\n",
    "\n",
    "df_bus_stops = pd.concat([df_REGIONAL_BUS_stops, df_METRO_BUS, df_SKYBUS, df_REGIONAL_COACH], axis=0)"
   ]
  },
  {
   "cell_type": "code",
   "execution_count": 95,
   "metadata": {},
   "outputs": [],
   "source": [
    "df_bus_stops['suburb'] = df_bus_stops['STOP_NAME'].str.extract(r'(\\(.*\\))')\n",
    "df_bus_stops['suburb'] = df_bus_stops['suburb'].str.extract(r'([^\\(\\)]+)')\n",
    "\n",
    "# df_bus_stops.to_csv('processed_csv/bus.csv')"
   ]
  }
 ],
 "metadata": {
  "kernelspec": {
   "display_name": "Python 3.8.13 ('ads')",
   "language": "python",
   "name": "python3"
  },
  "language_info": {
   "codemirror_mode": {
    "name": "ipython",
    "version": 3
   },
   "file_extension": ".py",
   "mimetype": "text/x-python",
   "name": "python",
   "nbconvert_exporter": "python",
   "pygments_lexer": "ipython3",
   "version": "3.8.13"
  },
  "orig_nbformat": 4,
  "vscode": {
   "interpreter": {
    "hash": "3b4ea10016098d5ca18cdcadb80706d14952c307628f09f11f21b3bbdec48c39"
   }
  }
 },
 "nbformat": 4,
 "nbformat_minor": 2
}
