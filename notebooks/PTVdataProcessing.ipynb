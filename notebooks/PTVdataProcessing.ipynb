{
 "cells": [
  {
   "cell_type": "code",
   "execution_count": 2,
   "metadata": {},
   "outputs": [],
   "source": [
    "import fiona\n",
    "import geopandas as gpd\n",
    "import pandas as pd"
   ]
  },
  {
   "cell_type": "code",
   "execution_count": 3,
   "metadata": {},
   "outputs": [],
   "source": [
    "ptv_layers = fiona.listlayers('../data/raw/PTV DATA/ll_gda94/filegdb/whole_of_dataset/victoria/PUBLIC_TRANSPORT.gdb')\n",
    "vmadmin_layers = fiona.listlayers('../data/raw/VIC admin/ll_gda2020/filegdb/whole_of_dataset/victoria/VMADMIN.gdb')\n",
    "\n",
    "gdf_AD_LOCALITY_AREA = gpd.read_file('../data/raw/VIC admin/ll_gda2020/filegdb/whole_of_dataset/victoria/VMADMIN.gdb', layer='AD_LOCALITY_AREA_POLYGON')\n",
    "gdf_vic = gdf_AD_LOCALITY_AREA[gdf_AD_LOCALITY_AREA['STATE'] == 'VIC']"
   ]
  },
  {
   "cell_type": "markdown",
   "metadata": {},
   "source": [
    "### tram"
   ]
  },
  {
   "cell_type": "code",
   "execution_count": 4,
   "metadata": {},
   "outputs": [],
   "source": [
    "gdf_METRO_TRAM = gpd.read_file('../data/raw/PTV DATA/ll_gda94/filegdb/whole_of_dataset/victoria/PUBLIC_TRANSPORT.gdb', \n",
    "layer='PTV_METRO_TRAM_STOP')\n",
    "\n",
    "df_vic_TRAM = pd.DataFrame(gdf_METRO_TRAM)\n",
    "\n",
    "df_vic_TRAM['suburb'] = df_vic_TRAM['STOP_NAME'].str.extract(r'(\\(.*\\))')\n",
    "df_vic_TRAM['suburb'] = df_vic_TRAM['suburb'].str.extract(r'([^\\(\\)]+)')\n",
    "\n",
    "# df_vic_TRAM.to_csv('processed_csv/tram.csv')"
   ]
  },
  {
   "cell_type": "markdown",
   "metadata": {},
   "source": [
    "### train"
   ]
  },
  {
   "cell_type": "code",
   "execution_count": 5,
   "metadata": {},
   "outputs": [],
   "source": [
    "gdf_REGIONAL_TRAIN= gpd.read_file('../data/raw/PTV DATA/ll_gda94/filegdb/whole_of_dataset/victoria/PUBLIC_TRANSPORT.gdb', \n",
    "layer='PTV_REGIONAL_TRAIN_STATION')\n",
    "\n",
    "gdf_METRO_TRAIN = gpd.read_file('../data/raw/PTV DATA/ll_gda94/filegdb/whole_of_dataset/victoria/PUBLIC_TRANSPORT.gdb', \n",
    "layer='PTV_METRO_TRAIN_STATION')\n",
    "\n",
    "df_mtrain_stops = pd.DataFrame({'STOP_ID': gdf_METRO_TRAIN['STOP_ID'], 'STOP_NAME': gdf_METRO_TRAIN['STOP_NAME'], \n",
    "'geometry': gdf_METRO_TRAIN['geometry'], 'type': pd.Series([\"METRO_TRAIN\" for x in range(len(gdf_METRO_TRAIN.index))])})\n",
    "\n",
    "df_rtrain_stops = pd.DataFrame({'STOP_ID': gdf_REGIONAL_TRAIN['STOP_ID'], 'STOP_NAME': gdf_REGIONAL_TRAIN['STOP_NAME'],\n",
    "'geometry': gdf_REGIONAL_TRAIN['geometry'], 'type': pd.Series([\"REGIONAL_TRAIN\" for x in range(len(gdf_REGIONAL_TRAIN.index))])})\n",
    "\n",
    "df_train_stops = pd.concat([df_mtrain_stops, df_rtrain_stops], axis=0)\n",
    "\n",
    "df_train_stops['suburb'] = df_train_stops['STOP_NAME'].str.extract(r'(\\(.*\\))')\n",
    "df_train_stops['suburb'] = df_train_stops['suburb'].str.extract(r'([^\\(\\)]+)')\n",
    "\n",
    "# df_train_stops.to_csv('processed_csv/train.csv')"
   ]
  },
  {
   "cell_type": "markdown",
   "metadata": {},
   "source": [
    "### bus"
   ]
  },
  {
   "cell_type": "code",
   "execution_count": 6,
   "metadata": {},
   "outputs": [],
   "source": [
    "gdf_REGIONAL_BUS= gpd.read_file('../data/raw/PTV DATA/ll_gda94/filegdb/whole_of_dataset/victoria/PUBLIC_TRANSPORT.gdb', \n",
    "layer='PTV_REGIONAL_BUS_STOP')\n",
    "\n",
    "gdf_METRO_BUS= gpd.read_file('../data/raw/PTV DATA/ll_gda94/filegdb/whole_of_dataset/victoria/PUBLIC_TRANSPORT.gdb', \n",
    "layer='PTV_METRO_BUS_STOP')\n",
    "\n",
    "gdf_SKYBUS= gpd.read_file('../data/raw/PTV DATA/ll_gda94/filegdb/whole_of_dataset/victoria/PUBLIC_TRANSPORT.gdb', \n",
    "layer='PTV_SKYBUS_STOP')\n",
    "\n",
    "gdf_REGIONAL_COACH= gpd.read_file('../data/raw/PTV DATA/ll_gda94/filegdb/whole_of_dataset/victoria/PUBLIC_TRANSPORT.gdb', \n",
    "layer='PTV_REGIONAL_COACH_STOP')\n",
    "\n",
    "df_REGIONAL_BUS_stops = pd.DataFrame({'STOP_ID': gdf_REGIONAL_BUS['STOP_ID'], 'STOP_NAME': gdf_REGIONAL_BUS['STOP_NAME'], \n",
    "'geometry': gdf_REGIONAL_BUS['geometry'], 'type': pd.Series([\"REGIONAL_BUS\" for x in range(len(gdf_REGIONAL_BUS.index))])})\n",
    "\n",
    "df_METRO_BUS = pd.DataFrame({'STOP_ID': gdf_METRO_BUS['STOP_ID'], 'STOP_NAME': gdf_METRO_BUS['STOP_NAME'], \n",
    "'geometry': gdf_METRO_BUS['geometry'], 'type': pd.Series([\"METRO_BUS\" for x in range(len(gdf_METRO_BUS.index))])})\n",
    "\n",
    "df_SKYBUS = pd.DataFrame({'STOP_ID': gdf_SKYBUS['STOP_ID'], 'STOP_NAME': gdf_SKYBUS['STOP_NAME'], \n",
    "'geometry': gdf_SKYBUS['geometry'], 'type': pd.Series([\"SKYBUS\" for x in range(len(gdf_SKYBUS.index))])})\n",
    "\n",
    "df_REGIONAL_COACH = pd.DataFrame({'STOP_ID': gdf_REGIONAL_COACH['STOP_ID'], 'STOP_NAME': gdf_REGIONAL_COACH['STOP_NAME'],\n",
    "'geometry': gdf_REGIONAL_COACH['geometry'], 'type': pd.Series([\"REGIONAL_COACH\" for x in range(len(gdf_REGIONAL_COACH.index))])})\n",
    "\n",
    "df_bus_stops = pd.concat([df_REGIONAL_BUS_stops, df_METRO_BUS, df_SKYBUS, df_REGIONAL_COACH], axis=0)\n",
    "\n",
    "df_bus_stops['suburb'] = df_bus_stops['STOP_NAME'].str.extract(r'(\\(.*\\))')\n",
    "df_bus_stops['suburb'] = df_bus_stops['suburb'].str.extract(r'([^\\(\\)]+)')"
   ]
  },
  {
   "cell_type": "markdown",
   "metadata": {},
   "source": [
    "### stations counts"
   ]
  },
  {
   "cell_type": "code",
   "execution_count": 7,
   "metadata": {},
   "outputs": [],
   "source": [
    "# convert suburb name to uppercase\n",
    "\n",
    "df_bus_stops['suburb'] = df_bus_stops['suburb'].astype('string')\n",
    "df_bus_stops['suburb'] = df_bus_stops['suburb'].str.upper()\n",
    "\n",
    "df_train_stops['suburb'] = df_train_stops['suburb'].astype('string')\n",
    "df_train_stops['suburb'] = df_train_stops['suburb'].str.upper()\n",
    "\n",
    "df_vic_TRAM['suburb'] = df_vic_TRAM['suburb'].astype('string')\n",
    "df_vic_TRAM['suburb'] = df_vic_TRAM['suburb'].str.upper()"
   ]
  },
  {
   "cell_type": "code",
   "execution_count": 8,
   "metadata": {},
   "outputs": [],
   "source": [
    "# df_station_count = pd.DataFrame(gdf_vic['NAME'])\n",
    "# df_station_count['NAME'] = df_station_count['NAME'].astype(\"string\")"
   ]
  },
  {
   "cell_type": "code",
   "execution_count": 9,
   "metadata": {},
   "outputs": [],
   "source": [
    "train_count = pd.DataFrame(\n",
    "    {\n",
    "        'NAME': df_train_stops['suburb'].value_counts().index,\n",
    "        'train_counts': df_train_stops['suburb'].value_counts().values\n",
    "        }\n",
    "    )\n",
    "\n",
    "tram_count = pd.DataFrame(\n",
    "    {\n",
    "        'NAME': df_vic_TRAM['suburb'].value_counts().index,\n",
    "        'tram_counts': df_vic_TRAM['suburb'].value_counts().values\n",
    "        }\n",
    "    )\n",
    "\n",
    "bus_count = pd.DataFrame(\n",
    "    {\n",
    "        'NAME': df_bus_stops['suburb'].value_counts().index,\n",
    "        'bus_counts': df_bus_stops['suburb'].value_counts().values\n",
    "        }\n",
    "    )"
   ]
  },
  {
   "cell_type": "code",
   "execution_count": 35,
   "metadata": {},
   "outputs": [
    {
     "data": {
      "text/html": [
       "<div>\n",
       "<style scoped>\n",
       "    .dataframe tbody tr th:only-of-type {\n",
       "        vertical-align: middle;\n",
       "    }\n",
       "\n",
       "    .dataframe tbody tr th {\n",
       "        vertical-align: top;\n",
       "    }\n",
       "\n",
       "    .dataframe thead th {\n",
       "        text-align: right;\n",
       "    }\n",
       "</style>\n",
       "<table border=\"1\" class=\"dataframe\">\n",
       "  <thead>\n",
       "    <tr style=\"text-align: right;\">\n",
       "      <th></th>\n",
       "      <th>NAME</th>\n",
       "      <th>train_counts</th>\n",
       "    </tr>\n",
       "  </thead>\n",
       "  <tbody>\n",
       "    <tr>\n",
       "      <th>4</th>\n",
       "      <td>BRIGHTON</td>\n",
       "      <td>4</td>\n",
       "    </tr>\n",
       "  </tbody>\n",
       "</table>\n",
       "</div>"
      ],
      "text/plain": [
       "       NAME  train_counts\n",
       "4  BRIGHTON             4"
      ]
     },
     "execution_count": 35,
     "metadata": {},
     "output_type": "execute_result"
    }
   ],
   "source": [
    "bus_count[bus_count['NAME'] == 'BRIGHTON']\n",
    "\n",
    "train_count[train_count['NAME'] == 'BRIGHTON']"
   ]
  },
  {
   "cell_type": "code",
   "execution_count": 36,
   "metadata": {},
   "outputs": [],
   "source": [
    "from functools import reduce\n",
    "\n",
    "df_station_count = reduce(lambda  left,right: pd.merge(left,right,on=['NAME'],\n",
    "how='outer'), [train_count, tram_count, bus_count])"
   ]
  },
  {
   "cell_type": "code",
   "execution_count": 37,
   "metadata": {},
   "outputs": [
    {
     "data": {
      "text/html": [
       "<div>\n",
       "<style scoped>\n",
       "    .dataframe tbody tr th:only-of-type {\n",
       "        vertical-align: middle;\n",
       "    }\n",
       "\n",
       "    .dataframe tbody tr th {\n",
       "        vertical-align: top;\n",
       "    }\n",
       "\n",
       "    .dataframe thead th {\n",
       "        text-align: right;\n",
       "    }\n",
       "</style>\n",
       "<table border=\"1\" class=\"dataframe\">\n",
       "  <thead>\n",
       "    <tr style=\"text-align: right;\">\n",
       "      <th></th>\n",
       "      <th>NAME</th>\n",
       "      <th>train_counts</th>\n",
       "      <th>tram_counts</th>\n",
       "      <th>bus_counts</th>\n",
       "    </tr>\n",
       "  </thead>\n",
       "  <tbody>\n",
       "    <tr>\n",
       "      <th>0</th>\n",
       "      <td>MELBOURNE CITY</td>\n",
       "      <td>7</td>\n",
       "      <td>129</td>\n",
       "      <td>55</td>\n",
       "    </tr>\n",
       "    <tr>\n",
       "      <th>1</th>\n",
       "      <td>NORTHCOTE</td>\n",
       "      <td>5</td>\n",
       "      <td>28</td>\n",
       "      <td>73</td>\n",
       "    </tr>\n",
       "    <tr>\n",
       "      <th>2</th>\n",
       "      <td>CAMBERWELL</td>\n",
       "      <td>5</td>\n",
       "      <td>66</td>\n",
       "      <td>51</td>\n",
       "    </tr>\n",
       "    <tr>\n",
       "      <th>3</th>\n",
       "      <td>RICHMOND</td>\n",
       "      <td>5</td>\n",
       "      <td>59</td>\n",
       "      <td>8</td>\n",
       "    </tr>\n",
       "    <tr>\n",
       "      <th>4</th>\n",
       "      <td>BRIGHTON</td>\n",
       "      <td>4</td>\n",
       "      <td>&lt;NA&gt;</td>\n",
       "      <td>107</td>\n",
       "    </tr>\n",
       "    <tr>\n",
       "      <th>...</th>\n",
       "      <td>...</td>\n",
       "      <td>...</td>\n",
       "      <td>...</td>\n",
       "      <td>...</td>\n",
       "    </tr>\n",
       "    <tr>\n",
       "      <th>1165</th>\n",
       "      <td>GLENROWAN</td>\n",
       "      <td>&lt;NA&gt;</td>\n",
       "      <td>&lt;NA&gt;</td>\n",
       "      <td>1</td>\n",
       "    </tr>\n",
       "    <tr>\n",
       "      <th>1166</th>\n",
       "      <td>TINAMBA</td>\n",
       "      <td>&lt;NA&gt;</td>\n",
       "      <td>&lt;NA&gt;</td>\n",
       "      <td>1</td>\n",
       "    </tr>\n",
       "    <tr>\n",
       "      <th>1167</th>\n",
       "      <td>WOOLSTHORPE</td>\n",
       "      <td>&lt;NA&gt;</td>\n",
       "      <td>&lt;NA&gt;</td>\n",
       "      <td>1</td>\n",
       "    </tr>\n",
       "    <tr>\n",
       "      <th>1168</th>\n",
       "      <td>COWWARR</td>\n",
       "      <td>&lt;NA&gt;</td>\n",
       "      <td>&lt;NA&gt;</td>\n",
       "      <td>1</td>\n",
       "    </tr>\n",
       "    <tr>\n",
       "      <th>1169</th>\n",
       "      <td>BUNDING</td>\n",
       "      <td>&lt;NA&gt;</td>\n",
       "      <td>&lt;NA&gt;</td>\n",
       "      <td>1</td>\n",
       "    </tr>\n",
       "  </tbody>\n",
       "</table>\n",
       "<p>1170 rows × 4 columns</p>\n",
       "</div>"
      ],
      "text/plain": [
       "                NAME  train_counts  tram_counts  bus_counts\n",
       "0     MELBOURNE CITY             7          129          55\n",
       "1          NORTHCOTE             5           28          73\n",
       "2         CAMBERWELL             5           66          51\n",
       "3           RICHMOND             5           59           8\n",
       "4           BRIGHTON             4         <NA>         107\n",
       "...              ...           ...          ...         ...\n",
       "1165       GLENROWAN          <NA>         <NA>           1\n",
       "1166         TINAMBA          <NA>         <NA>           1\n",
       "1167     WOOLSTHORPE          <NA>         <NA>           1\n",
       "1168         COWWARR          <NA>         <NA>           1\n",
       "1169         BUNDING          <NA>         <NA>           1\n",
       "\n",
       "[1170 rows x 4 columns]"
      ]
     },
     "execution_count": 37,
     "metadata": {},
     "output_type": "execute_result"
    }
   ],
   "source": [
    "df_station_count"
   ]
  }
 ],
 "metadata": {
  "kernelspec": {
   "display_name": "Python 3.8.13 ('ads')",
   "language": "python",
   "name": "python3"
  },
  "language_info": {
   "codemirror_mode": {
    "name": "ipython",
    "version": 3
   },
   "file_extension": ".py",
   "mimetype": "text/x-python",
   "name": "python",
   "nbconvert_exporter": "python",
   "pygments_lexer": "ipython3",
   "version": "3.8.13"
  },
  "orig_nbformat": 4,
  "vscode": {
   "interpreter": {
    "hash": "3b4ea10016098d5ca18cdcadb80706d14952c307628f09f11f21b3bbdec48c39"
   }
  }
 },
 "nbformat": 4,
 "nbformat_minor": 2
}
