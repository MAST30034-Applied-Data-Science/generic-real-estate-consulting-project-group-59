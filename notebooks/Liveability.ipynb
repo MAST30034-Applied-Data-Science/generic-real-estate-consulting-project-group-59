{
 "cells": [
  {
   "cell_type": "markdown",
   "id": "lyric-apparatus",
   "metadata": {},
   "source": [
    "# Reproduction Instructions\n",
    "\n",
    "Others\n",
    "1. Navigate to `/scripts/`\n",
    "2. Execute `get_suburbs_shp.py`\n",
    "3. Execute `/notebooks/PTVdataProcessing.ipynb`\n",
    "\n",
    "House Speaking Same\n",
    "1. Navigate to `/scripts/housespeakingsame`\n",
    "2. Execute `scrape_house_speakingsame_suburbs.py`\n",
    "3. Execute `preprocess_house_speakingsame_suburbs.py`\n",
    "4. Execute `scrape_house_speakingsame_schools.py`"
   ]
  },
  {
   "cell_type": "code",
   "execution_count": 1,
   "id": "bizarre-neighbor",
   "metadata": {},
   "outputs": [],
   "source": [
    "import pandas as pd\n",
    "import geopandas as gpd\n",
    "from glob import glob\n",
    "import folium\n",
    "from datetime import datetime as dt\n",
    "import seaborn as sns\n",
    "from matplotlib import pyplot as plt\n",
    "from shapely.geometry import Point\n",
    "\n",
    "TOP_SUB_DATA_DIR = \"../data/curated/housespeakingsame/top/\"\n",
    "SCHOOLS_PATH = \"../data/raw/housespeakingsame/schools/top_schools.csv\"\n",
    "PTV_PATH = '../data/curated/PTV_stations_count_by_suburb.csv'\n",
    "shp_file = \"../data/raw/suburbs/SAL_2021_AUST_GDA2020.shp\"\n",
    "ENTERTAINMENT_PATHS = {\n",
    "    'shop': '../data/raw/openstreetmap/shopping_centres_victoria.csv',\n",
    "    'theater': '../data/raw/openstreetmap/theaters_victoria_info.csv',\n",
    "    'park': '../data/raw/openstreetmap/park_victoria.csv'\n",
    "}"
   ]
  },
  {
   "cell_type": "code",
   "execution_count": 2,
   "id": "afraid-communist",
   "metadata": {},
   "outputs": [
    {
     "name": "stderr",
     "output_type": "stream",
     "text": [
      "<ipython-input-2-82bc9bdd220b>:4: FutureWarning: The default value of regex will change from True to False in a future version.\n",
      "  sf['suburb'] = sf['SAL_NAME21'].str.replace(' \\([^\\(\\)]+\\)', '').apply(lambda x: 'Preston West' if x=='Preston' else x)\n"
     ]
    }
   ],
   "source": [
    "sf = gpd.read_file(shp_file)\n",
    "sf['geometry'] = sf['geometry'].to_crs(\"+proj=longlat +ellps=WGS84 +datum=WGS84 +no_defs\")\n",
    "sf = sf.query(\"STE_NAME21=='Victoria'\")\n",
    "sf['suburb'] = sf['SAL_NAME21'].str.replace(' \\([^\\(\\)]+\\)', '').apply(lambda x: 'Preston West' if x=='Preston' else x)\n",
    "sf = sf[['suburb','geometry']].dropna()"
   ]
  },
  {
   "cell_type": "code",
   "execution_count": 3,
   "id": "balanced-count",
   "metadata": {},
   "outputs": [],
   "source": [
    "entertainment = pd.DataFrame()\n",
    "for name, path in ENTERTAINMENT_PATHS.items():\n",
    "    ent_df = pd.read_csv(path, index_col=0)\n",
    "    ent_df['type'] = name\n",
    "    entertainment = pd.concat([entertainment, ent_df])\n",
    "entertainment = entertainment.drop_duplicates()"
   ]
  },
  {
   "cell_type": "code",
   "execution_count": 4,
   "id": "accredited-regular",
   "metadata": {},
   "outputs": [],
   "source": [
    "from collections import defaultdict\n",
    "def count_entertainment(polygon):\n",
    "    \"\"\"\n",
    "    Counts entertainment features inside a suburb polygon\n",
    "    \"\"\"\n",
    "    dd = defaultdict(lambda: 0)\n",
    "    for lng, lat, name in entertainment[['lng','lat','type']].values:\n",
    "        dd[name] += int(polygon.contains(Point(lng,lat)))\n",
    "    return pd.DataFrame(dd, index=[0])"
   ]
  },
  {
   "cell_type": "code",
   "execution_count": 5,
   "id": "successful-portfolio",
   "metadata": {},
   "outputs": [
    {
     "name": "stdout",
     "output_type": "stream",
     "text": [
      "CPU times: user 18.9 s, sys: 10.7 ms, total: 18.9 s\n",
      "Wall time: 19.5 s\n"
     ]
    }
   ],
   "source": [
    "%%time\n",
    "sf[['shop','theater','park']] = pd.concat(sf['geometry'].apply(count_entertainment).values).values.tolist()"
   ]
  },
  {
   "cell_type": "code",
   "execution_count": 6,
   "id": "developing-gibson",
   "metadata": {},
   "outputs": [],
   "source": [
    "sf['entertainment'] = sf[['shop','theater','park']].sum(axis=1)"
   ]
  },
  {
   "cell_type": "code",
   "execution_count": 7,
   "id": "foreign-sword",
   "metadata": {},
   "outputs": [],
   "source": [
    "sub_df = pd.DataFrame(columns = ['suburb'])\n",
    "for p in glob(TOP_SUB_DATA_DIR + '*'):\n",
    "    name = p.split('/')[-1].split('.')[0]\n",
    "    d = pd.read_csv(p, index_col=0)[['suburb','rank','value']]\n",
    "    d[name] = d['value']\n",
    "    d[name + '_rank'] = d['rank']\n",
    "    d = d.drop(['value', 'rank'], axis=1)\n",
    "    sub_df = sub_df.merge(d, on='suburb', how='outer')\n",
    "sub_df = sub_df.sort_values('rent_rank')"
   ]
  },
  {
   "cell_type": "code",
   "execution_count": 8,
   "id": "coupled-stadium",
   "metadata": {},
   "outputs": [],
   "source": [
    "schools = pd.read_csv(SCHOOLS_PATH)"
   ]
  },
  {
   "cell_type": "code",
   "execution_count": 9,
   "id": "contemporary-toolbox",
   "metadata": {},
   "outputs": [],
   "source": [
    "school_ranks = schools.groupby('suburb')['rank'].agg(['min','mean','max']).reset_index().set_index('suburb')\n",
    "school_ranks.columns = ['school_rank_' + c for c in school_ranks.columns]\n",
    "school_counts = schools.groupby('suburb')['type'].value_counts().reset_index(name='count').pivot('suburb','type','count').reset_index().fillna(0)\n",
    "school_counts['total'] = school_counts.drop('suburb', axis=1).sum(axis=1)\n",
    "school_counts = school_counts.sort_values('total').set_index('suburb')\n",
    "school_counts.columns = ['schools_' + c for c in school_counts.columns]"
   ]
  },
  {
   "cell_type": "code",
   "execution_count": 10,
   "id": "coupled-arrest",
   "metadata": {},
   "outputs": [],
   "source": [
    "sub_schools = school_counts.merge(school_ranks, left_index=True, right_index=True, how='outer').reset_index()"
   ]
  },
  {
   "cell_type": "code",
   "execution_count": 11,
   "id": "relevant-afghanistan",
   "metadata": {},
   "outputs": [],
   "source": [
    "ptv = pd.read_csv(PTV_PATH, index_col=0).fillna(0)\n",
    "ptv['suburb'] = ptv['suburb'].str.lower().str.capitalize()"
   ]
  },
  {
   "cell_type": "code",
   "execution_count": 12,
   "id": "selective-vietnam",
   "metadata": {},
   "outputs": [],
   "source": [
    "ptv.columns = ['suburb', 'Train', 'Tram', 'Bus', 'Total Stations']"
   ]
  },
  {
   "cell_type": "code",
   "execution_count": 13,
   "id": "running-documentary",
   "metadata": {},
   "outputs": [],
   "source": [
    "sub = sub_df.merge(sub_schools, on='suburb', how='outer').merge(ptv, on='suburb', how='left').merge(sf, on='suburb', how='left')"
   ]
  },
  {
   "cell_type": "code",
   "execution_count": 14,
   "id": "damaged-chick",
   "metadata": {},
   "outputs": [],
   "source": [
    "fill0_cols = ['rented', 'education', 'turnover', 'owned', 'houses', 'occupation',\n",
    "              'flats', 'purchased', 'schools_Combined', 'schools_Primary', 'schools_Secondary',\n",
    "              'schools_total', 'Train', 'Tram', 'Bus', 'Total Stations', 'shop', 'theater', 'park', 'entertainment']\n",
    "sub[fill0_cols] = sub[fill0_cols].fillna(0)\n",
    "sub = sub.rename({'suburb': 'Suburb'}, axis=1)"
   ]
  },
  {
   "cell_type": "code",
   "execution_count": 15,
   "id": "special-plaintiff",
   "metadata": {},
   "outputs": [],
   "source": [
    "# Assign ranks & percentiles to suburb features\n",
    "torank_cols = ['schools_Combined','schools_Primary','schools_Secondary',\n",
    "           'schools_total','Train','Tram','Bus','Total Stations', 'shop', 'theater', 'park', 'entertainment',\n",
    "          'rent_rank','sold_rank'] # reverse rent and sold value ranks, since lower is more affordable\n",
    "topct_cols = ['education','income','sold','rent','occupation','schools_Combined','schools_Primary','schools_Secondary',\n",
    "              'schools_total','Train','Tram','Bus','Total Stations','shop','theater','park','entertainment']\n",
    "\n",
    "for col in torank_cols:\n",
    "    sub[col + '_rank'] = sub[col].rank(method='min', ascending=False)\n",
    "for col in topct_cols:\n",
    "#     sub[col + '_score'] = int(col in ['sold','rent']) - (sub[col] / sub[col].max())\n",
    "    sub[col + '_pct'] = 1 - sub[col].rank(method='min', pct=True, ascending=col not in ['sold','rent'])"
   ]
  },
  {
   "cell_type": "markdown",
   "id": "adjacent-relations",
   "metadata": {},
   "source": [
    "# Analyses"
   ]
  },
  {
   "cell_type": "code",
   "execution_count": 125,
   "id": "mechanical-signature",
   "metadata": {},
   "outputs": [],
   "source": [
    "m = folium.Map(location=(-37.810003,144.962594), tiles=\"Stamen Terrain\", zoom_start=16)\n",
    "sf_df = gpd.GeoDataFrame(sf)\n",
    "geoJSON = sf_df[['suburb','geometry']].dropna().drop_duplicates().to_json()\n",
    "c = folium.Choropleth(\n",
    "    geo_data=geoJSON, # geoJSON \n",
    "    name='choropleth', # name of plot    \n",
    "    fill_opacity=0.1\n",
    ")\n",
    "\n",
    "c.add_to(m)\n",
    "m.save(\"../plots/suburb_boundaries.html\")"
   ]
  },
  {
   "cell_type": "code",
   "execution_count": 16,
   "id": "original-outdoors",
   "metadata": {},
   "outputs": [],
   "source": [
    "def p(r,c,w,h):\n",
    "    return plt.subplots(r,c,figsize=(w,h))"
   ]
  },
  {
   "cell_type": "markdown",
   "id": "digital-investigation",
   "metadata": {},
   "source": [
    "## Entertainment"
   ]
  },
  {
   "cell_type": "code",
   "execution_count": 39,
   "id": "relative-patient",
   "metadata": {},
   "outputs": [
    {
     "data": {
      "text/plain": [
       "[<matplotlib.axis.XTick at 0x7f0e79fdf3a0>,\n",
       " <matplotlib.axis.XTick at 0x7f0e79fdf340>,\n",
       " <matplotlib.axis.XTick at 0x7f0e79fb2550>,\n",
       " <matplotlib.axis.XTick at 0x7f0e7b425e80>,\n",
       " <matplotlib.axis.XTick at 0x7f0e7b40e640>,\n",
       " <matplotlib.axis.XTick at 0x7f0e7b40a070>,\n",
       " <matplotlib.axis.XTick at 0x7f0e7b40a700>,\n",
       " <matplotlib.axis.XTick at 0x7f0e7b40ae50>,\n",
       " <matplotlib.axis.XTick at 0x7f0e7b42aa90>,\n",
       " <matplotlib.axis.XTick at 0x7f0e7b40a640>,\n",
       " <matplotlib.axis.XTick at 0x7f0e7b425d30>,\n",
       " <matplotlib.axis.XTick at 0x7f0e7b42a520>,\n",
       " <matplotlib.axis.XTick at 0x7f0e7b543280>,\n",
       " <matplotlib.axis.XTick at 0x7f0e7b5439d0>,\n",
       " <matplotlib.axis.XTick at 0x7f0e7b544160>,\n",
       " <matplotlib.axis.XTick at 0x7f0e7b543d00>,\n",
       " <matplotlib.axis.XTick at 0x7f0e7b42a4c0>,\n",
       " <matplotlib.axis.XTick at 0x7f0e7b5448b0>,\n",
       " <matplotlib.axis.XTick at 0x7f0e7b544e50>]"
      ]
     },
     "execution_count": 39,
     "metadata": {},
     "output_type": "execute_result"
    },
    {
     "data": {
      "image/png": "[encoded data removed]",
      "text/plain": [
       "<Figure size 720x288 with 1 Axes>"
      ]
     },
     "metadata": {
      "needs_background": "light"
     },
     "output_type": "display_data"
    }
   ],
   "source": [
    "fig, ax = p(1,1,10,4)\n",
    "sub.nlargest(10, 'entertainment').plot(kind='barh', x='Suburb', y=['shop','theater','park'], stacked=True,\n",
    "                                       title='Suburbs with Top 10 No. Entertainment Facilities',ax=ax)\n",
    "plt.title('Suburbs with Top 10 Total Entertainment Facilities', size=16)\n",
    "ax.set_xlabel(\"Count\")\n",
    "ax.set_xticks(list(range(19)))"
   ]
  },
  {
   "cell_type": "code",
   "execution_count": 18,
   "id": "utility-respect",
   "metadata": {},
   "outputs": [],
   "source": [
    "melb_poly = sf.loc[sf['suburb']=='Melbourne']['geometry'].values[0]\n",
    "melb_ent = entertainment.loc[entertainment.apply(lambda d: melb_poly.contains(Point(d['lng'], d['lat'])), axis=1)]"
   ]
  },
  {
   "cell_type": "code",
   "execution_count": 70,
   "id": "polar-adoption",
   "metadata": {},
   "outputs": [
    {
     "data": {
      "text/html": [
       "<div>\n",
       "<style scoped>\n",
       "    .dataframe tbody tr th:only-of-type {\n",
       "        vertical-align: middle;\n",
       "    }\n",
       "\n",
       "    .dataframe tbody tr th {\n",
       "        vertical-align: top;\n",
       "    }\n",
       "\n",
       "    .dataframe thead th {\n",
       "        text-align: right;\n",
       "    }\n",
       "</style>\n",
       "<table border=\"1\" class=\"dataframe\">\n",
       "  <thead>\n",
       "    <tr style=\"text-align: right;\">\n",
       "      <th></th>\n",
       "      <th>name</th>\n",
       "      <th>geocode_name</th>\n",
       "      <th>street</th>\n",
       "      <th>neighborhood</th>\n",
       "      <th>city</th>\n",
       "      <th>county</th>\n",
       "      <th>lng</th>\n",
       "      <th>lat</th>\n",
       "      <th>address</th>\n",
       "      <th>type</th>\n",
       "    </tr>\n",
       "    <tr>\n",
       "      <th>index</th>\n",
       "      <th></th>\n",
       "      <th></th>\n",
       "      <th></th>\n",
       "      <th></th>\n",
       "      <th></th>\n",
       "      <th></th>\n",
       "      <th></th>\n",
       "      <th></th>\n",
       "      <th></th>\n",
       "      <th></th>\n",
       "    </tr>\n",
       "  </thead>\n",
       "  <tbody>\n",
       "    <tr>\n",
       "      <th>1</th>\n",
       "      <td>Melbourne Central</td>\n",
       "      <td>Melbourne Central</td>\n",
       "      <td>La Trobe Street</td>\n",
       "      <td>Melbourne</td>\n",
       "      <td>NaN</td>\n",
       "      <td>NaN</td>\n",
       "      <td>144.962594</td>\n",
       "      <td>-37.810003</td>\n",
       "      <td>Melbourne Central, La Trobe Street, Melbourne,...</td>\n",
       "      <td>shop</td>\n",
       "    </tr>\n",
       "    <tr>\n",
       "      <th>5</th>\n",
       "      <td>Bourke Street Mall</td>\n",
       "      <td>Bourke Street Mall</td>\n",
       "      <td>Centrepoint</td>\n",
       "      <td>Melbourne</td>\n",
       "      <td>NaN</td>\n",
       "      <td>NaN</td>\n",
       "      <td>144.965298</td>\n",
       "      <td>-37.813554</td>\n",
       "      <td>Bourke Street Mall, Centrepoint, Melbourne, Ci...</td>\n",
       "      <td>shop</td>\n",
       "    </tr>\n",
       "    <tr>\n",
       "      <th>168</th>\n",
       "      <td>Galleria Melbourne</td>\n",
       "      <td>Galleria</td>\n",
       "      <td>Galleria Arcade</td>\n",
       "      <td>Melbourne</td>\n",
       "      <td>NaN</td>\n",
       "      <td>NaN</td>\n",
       "      <td>144.962883</td>\n",
       "      <td>-37.814796</td>\n",
       "      <td>Galleria, Galleria Arcade, Melbourne, City of ...</td>\n",
       "      <td>shop</td>\n",
       "    </tr>\n",
       "    <tr>\n",
       "      <th>213</th>\n",
       "      <td>QV Melbourne</td>\n",
       "      <td>QV</td>\n",
       "      <td>QV Square</td>\n",
       "      <td>Melbourne</td>\n",
       "      <td>NaN</td>\n",
       "      <td>NaN</td>\n",
       "      <td>144.965707</td>\n",
       "      <td>-37.810676</td>\n",
       "      <td>QV, QV Square, Melbourne, City of Melbourne, G...</td>\n",
       "      <td>shop</td>\n",
       "    </tr>\n",
       "    <tr>\n",
       "      <th>236</th>\n",
       "      <td>Emporium Melbourne</td>\n",
       "      <td>Emporium</td>\n",
       "      <td>287</td>\n",
       "      <td>Lonsdale Street</td>\n",
       "      <td>NaN</td>\n",
       "      <td>NaN</td>\n",
       "      <td>144.963934</td>\n",
       "      <td>-37.812488</td>\n",
       "      <td>Emporium, 287, Lonsdale Street, Melbourne, Cit...</td>\n",
       "      <td>shop</td>\n",
       "    </tr>\n",
       "    <tr>\n",
       "      <th>245</th>\n",
       "      <td>Collins Place</td>\n",
       "      <td>Collins Place</td>\n",
       "      <td>Melbourne</td>\n",
       "      <td>City of Melbourne</td>\n",
       "      <td>NaN</td>\n",
       "      <td>NaN</td>\n",
       "      <td>144.973194</td>\n",
       "      <td>-37.814146</td>\n",
       "      <td>Collins Place, Melbourne, City of Melbourne, G...</td>\n",
       "      <td>shop</td>\n",
       "    </tr>\n",
       "    <tr>\n",
       "      <th>249</th>\n",
       "      <td>St. Collins Lane</td>\n",
       "      <td>St. Collins Lane</td>\n",
       "      <td>260</td>\n",
       "      <td>Collins Street</td>\n",
       "      <td>NaN</td>\n",
       "      <td>NaN</td>\n",
       "      <td>144.964981</td>\n",
       "      <td>-37.815340</td>\n",
       "      <td>St. Collins Lane, 260, Collins Street, Melbour...</td>\n",
       "      <td>shop</td>\n",
       "    </tr>\n",
       "    <tr>\n",
       "      <th>255</th>\n",
       "      <td>Royal Arcade</td>\n",
       "      <td>Royal Arcade</td>\n",
       "      <td>Melbourne</td>\n",
       "      <td>City of Melbourne</td>\n",
       "      <td>NaN</td>\n",
       "      <td>NaN</td>\n",
       "      <td>144.964091</td>\n",
       "      <td>-37.814554</td>\n",
       "      <td>Royal Arcade, Melbourne, City of Melbourne, Gr...</td>\n",
       "      <td>shop</td>\n",
       "    </tr>\n",
       "    <tr>\n",
       "      <th>267</th>\n",
       "      <td>Melbourne's GPO</td>\n",
       "      <td>Melbourne's GPO</td>\n",
       "      <td>350</td>\n",
       "      <td>Bourke Street</td>\n",
       "      <td>NaN</td>\n",
       "      <td>NaN</td>\n",
       "      <td>144.963301</td>\n",
       "      <td>-37.813658</td>\n",
       "      <td>Melbourne's GPO, 350, Bourke Street, Melbourne...</td>\n",
       "      <td>shop</td>\n",
       "    </tr>\n",
       "    <tr>\n",
       "      <th>3</th>\n",
       "      <td>ACMI</td>\n",
       "      <td>ACMI</td>\n",
       "      <td>Federation Square</td>\n",
       "      <td>Melbourne</td>\n",
       "      <td>NaN</td>\n",
       "      <td>NaN</td>\n",
       "      <td>144.969067</td>\n",
       "      <td>-37.817409</td>\n",
       "      <td>ACMI, Federation Square, Melbourne, City of Me...</td>\n",
       "      <td>theater</td>\n",
       "    </tr>\n",
       "    <tr>\n",
       "      <th>21</th>\n",
       "      <td>Athenaeum Theatre</td>\n",
       "      <td>Athenaeum Theatre</td>\n",
       "      <td>Collins Street</td>\n",
       "      <td>Melbourne</td>\n",
       "      <td>NaN</td>\n",
       "      <td>NaN</td>\n",
       "      <td>144.967288</td>\n",
       "      <td>-37.814878</td>\n",
       "      <td>Athenaeum Theatre, Collins Street, Melbourne, ...</td>\n",
       "      <td>theater</td>\n",
       "    </tr>\n",
       "    <tr>\n",
       "      <th>65</th>\n",
       "      <td>Comedy Theatre   Melbourne</td>\n",
       "      <td>Comedy Theatre</td>\n",
       "      <td>Lonsdale Street</td>\n",
       "      <td>Melbourne</td>\n",
       "      <td>NaN</td>\n",
       "      <td>NaN</td>\n",
       "      <td>144.970158</td>\n",
       "      <td>-37.810264</td>\n",
       "      <td>Comedy Theatre, Lonsdale Street, Melbourne, Ci...</td>\n",
       "      <td>theater</td>\n",
       "    </tr>\n",
       "    <tr>\n",
       "      <th>112</th>\n",
       "      <td>Hoyts Cinema Centre   Melbourne</td>\n",
       "      <td>140 Bourke</td>\n",
       "      <td>140</td>\n",
       "      <td>Bourke Street</td>\n",
       "      <td>NaN</td>\n",
       "      <td>NaN</td>\n",
       "      <td>144.968880</td>\n",
       "      <td>-37.811953</td>\n",
       "      <td>140 Bourke, 140, Bourke Street, Melbourne, Cit...</td>\n",
       "      <td>theater</td>\n",
       "    </tr>\n",
       "    <tr>\n",
       "      <th>127</th>\n",
       "      <td>Hoyts Melbourne Central   Melbourne</td>\n",
       "      <td>Hoyts Melbourne Central</td>\n",
       "      <td>Queen Elizabeth Walk</td>\n",
       "      <td>Melbourne</td>\n",
       "      <td>NaN</td>\n",
       "      <td>NaN</td>\n",
       "      <td>144.963404</td>\n",
       "      <td>-37.810069</td>\n",
       "      <td>Hoyts Melbourne Central, Queen Elizabeth Walk,...</td>\n",
       "      <td>theater</td>\n",
       "    </tr>\n",
       "    <tr>\n",
       "      <th>183</th>\n",
       "      <td>Memorial Hall   Melbourne</td>\n",
       "      <td>Memorial Hall</td>\n",
       "      <td>Bromby Street</td>\n",
       "      <td>St Kilda Road</td>\n",
       "      <td>NaN</td>\n",
       "      <td>NaN</td>\n",
       "      <td>144.976751</td>\n",
       "      <td>-37.834655</td>\n",
       "      <td>Memorial Hall, Bromby Street, St Kilda Road, M...</td>\n",
       "      <td>theater</td>\n",
       "    </tr>\n",
       "    <tr>\n",
       "      <th>214</th>\n",
       "      <td>Palace Theatre   Melbourne</td>\n",
       "      <td>Palace Theatre</td>\n",
       "      <td>20-30</td>\n",
       "      <td>Bourke Street</td>\n",
       "      <td>NaN</td>\n",
       "      <td>NaN</td>\n",
       "      <td>144.972166</td>\n",
       "      <td>-37.811183</td>\n",
       "      <td>Palace Theatre, 20-30, Bourke Street, Melbourn...</td>\n",
       "      <td>theater</td>\n",
       "    </tr>\n",
       "    <tr>\n",
       "      <th>240</th>\n",
       "      <td>Princess Theatre   Melbourne</td>\n",
       "      <td>Princess Theatre</td>\n",
       "      <td>163</td>\n",
       "      <td>Spring Street</td>\n",
       "      <td>NaN</td>\n",
       "      <td>NaN</td>\n",
       "      <td>144.972318</td>\n",
       "      <td>-37.810692</td>\n",
       "      <td>Princess Theatre, 163, Spring Street, Melbourn...</td>\n",
       "      <td>theater</td>\n",
       "    </tr>\n",
       "    <tr>\n",
       "      <th>9</th>\n",
       "      <td>Batman Park</td>\n",
       "      <td>Batman Park</td>\n",
       "      <td>Melbourne</td>\n",
       "      <td>City of Melbourne</td>\n",
       "      <td>NaN</td>\n",
       "      <td>NaN</td>\n",
       "      <td>144.956406</td>\n",
       "      <td>-37.821950</td>\n",
       "      <td>Batman Park, Melbourne, City of Melbourne, Gre...</td>\n",
       "      <td>park</td>\n",
       "    </tr>\n",
       "  </tbody>\n",
       "</table>\n",
       "</div>"
      ],
      "text/plain": [
       "                                      name             geocode_name  \\\n",
       "index                                                                 \n",
       "1                        Melbourne Central        Melbourne Central   \n",
       "5                       Bourke Street Mall       Bourke Street Mall   \n",
       "168                     Galleria Melbourne                 Galleria   \n",
       "213                           QV Melbourne                       QV   \n",
       "236                     Emporium Melbourne                 Emporium   \n",
       "245                          Collins Place            Collins Place   \n",
       "249                       St. Collins Lane         St. Collins Lane   \n",
       "255                           Royal Arcade             Royal Arcade   \n",
       "267                        Melbourne's GPO          Melbourne's GPO   \n",
       "3                                     ACMI                     ACMI   \n",
       "21                       Athenaeum Theatre        Athenaeum Theatre   \n",
       "65              Comedy Theatre   Melbourne           Comedy Theatre   \n",
       "112        Hoyts Cinema Centre   Melbourne               140 Bourke   \n",
       "127    Hoyts Melbourne Central   Melbourne  Hoyts Melbourne Central   \n",
       "183              Memorial Hall   Melbourne            Memorial Hall   \n",
       "214             Palace Theatre   Melbourne           Palace Theatre   \n",
       "240           Princess Theatre   Melbourne         Princess Theatre   \n",
       "9                              Batman Park              Batman Park   \n",
       "\n",
       "                      street        neighborhood  city  county         lng  \\\n",
       "index                                                                        \n",
       "1            La Trobe Street           Melbourne   NaN     NaN  144.962594   \n",
       "5                Centrepoint           Melbourne   NaN     NaN  144.965298   \n",
       "168          Galleria Arcade           Melbourne   NaN     NaN  144.962883   \n",
       "213                QV Square           Melbourne   NaN     NaN  144.965707   \n",
       "236                      287     Lonsdale Street   NaN     NaN  144.963934   \n",
       "245                Melbourne   City of Melbourne   NaN     NaN  144.973194   \n",
       "249                      260      Collins Street   NaN     NaN  144.964981   \n",
       "255                Melbourne   City of Melbourne   NaN     NaN  144.964091   \n",
       "267                      350       Bourke Street   NaN     NaN  144.963301   \n",
       "3          Federation Square           Melbourne   NaN     NaN  144.969067   \n",
       "21            Collins Street           Melbourne   NaN     NaN  144.967288   \n",
       "65           Lonsdale Street           Melbourne   NaN     NaN  144.970158   \n",
       "112                      140       Bourke Street   NaN     NaN  144.968880   \n",
       "127     Queen Elizabeth Walk           Melbourne   NaN     NaN  144.963404   \n",
       "183            Bromby Street       St Kilda Road   NaN     NaN  144.976751   \n",
       "214                    20-30       Bourke Street   NaN     NaN  144.972166   \n",
       "240                      163       Spring Street   NaN     NaN  144.972318   \n",
       "9                  Melbourne   City of Melbourne   NaN     NaN  144.956406   \n",
       "\n",
       "             lat                                            address     type  \n",
       "index                                                                         \n",
       "1     -37.810003  Melbourne Central, La Trobe Street, Melbourne,...     shop  \n",
       "5     -37.813554  Bourke Street Mall, Centrepoint, Melbourne, Ci...     shop  \n",
       "168   -37.814796  Galleria, Galleria Arcade, Melbourne, City of ...     shop  \n",
       "213   -37.810676  QV, QV Square, Melbourne, City of Melbourne, G...     shop  \n",
       "236   -37.812488  Emporium, 287, Lonsdale Street, Melbourne, Cit...     shop  \n",
       "245   -37.814146  Collins Place, Melbourne, City of Melbourne, G...     shop  \n",
       "249   -37.815340  St. Collins Lane, 260, Collins Street, Melbour...     shop  \n",
       "255   -37.814554  Royal Arcade, Melbourne, City of Melbourne, Gr...     shop  \n",
       "267   -37.813658  Melbourne's GPO, 350, Bourke Street, Melbourne...     shop  \n",
       "3     -37.817409  ACMI, Federation Square, Melbourne, City of Me...  theater  \n",
       "21    -37.814878  Athenaeum Theatre, Collins Street, Melbourne, ...  theater  \n",
       "65    -37.810264  Comedy Theatre, Lonsdale Street, Melbourne, Ci...  theater  \n",
       "112   -37.811953  140 Bourke, 140, Bourke Street, Melbourne, Cit...  theater  \n",
       "127   -37.810069  Hoyts Melbourne Central, Queen Elizabeth Walk,...  theater  \n",
       "183   -37.834655  Memorial Hall, Bromby Street, St Kilda Road, M...  theater  \n",
       "214   -37.811183  Palace Theatre, 20-30, Bourke Street, Melbourn...  theater  \n",
       "240   -37.810692  Princess Theatre, 163, Spring Street, Melbourn...  theater  \n",
       "9     -37.821950  Batman Park, Melbourne, City of Melbourne, Gre...     park  "
      ]
     },
     "execution_count": 70,
     "metadata": {},
     "output_type": "execute_result"
    }
   ],
   "source": [
    "melb_ent"
   ]
  },
  {
   "cell_type": "code",
   "execution_count": 87,
   "id": "mighty-month",
   "metadata": {},
   "outputs": [
    {
     "data": {
      "text/plain": [
       "<folium.map.Icon at 0x7f0e780b44c0>"
      ]
     },
     "execution_count": 87,
     "metadata": {},
     "output_type": "execute_result"
    }
   ],
   "source": []
  },
  {
   "cell_type": "code",
   "execution_count": 96,
   "id": "racial-health",
   "metadata": {},
   "outputs": [
    {
     "data": {
      "text/html": [
       "<div style=\"width:100%;\"><div style=\"position:relative;width:100%;height:0;padding-bottom:60%;\"><span style=\"color:#565656\">Make this Notebook Trusted to load map: File -> Trust Notebook</span><iframe srcdoc=\"&lt;!DOCTYPE html&gt;\n",
       "&lt;head&gt;    \n",
       "    &lt;meta http-equiv=&quot;content-type&quot; content=&quot;text/html; charset=UTF-8&quot; /&gt;\n",
       "    \n",
       "        &lt;script&gt;\n",
       "            L_NO_TOUCH = false;\n",
       "            L_DISABLE_3D = false;\n",
       "        &lt;/script&gt;\n",
       "    \n",
       "    &lt;style&gt;html, body {width: 100%;height: 100%;margin: 0;padding: 0;}&lt;/style&gt;\n",
       "    &lt;style&gt;#map {position:absolute;top:0;bottom:0;right:0;left:0;}&lt;/style&gt;\n",
       "    &lt;script src=&quot;https://cdn.jsdelivr.net/npm/leaflet@1.6.0/dist/leaflet.js&quot;&gt;&lt;/script&gt;\n",
       "    &lt;script src=&quot;https://code.jquery.com/jquery-1.12.4.min.js&quot;&gt;&lt;/script&gt;\n",
       "    &lt;script src=&quot;https://maxcdn.bootstrapcdn.com/bootstrap/3.2.0/js/bootstrap.min.js&quot;&gt;&lt;/script&gt;\n",
       "    &lt;script src=&quot;https://cdnjs.cloudflare.com/ajax/libs/Leaflet.awesome-markers/2.0.2/leaflet.awesome-markers.js&quot;&gt;&lt;/script&gt;\n",
       "    &lt;link rel=&quot;stylesheet&quot; href=&quot;https://cdn.jsdelivr.net/npm/leaflet@1.6.0/dist/leaflet.css&quot;/&gt;\n",
       "    &lt;link rel=&quot;stylesheet&quot; href=&quot;https://maxcdn.bootstrapcdn.com/bootstrap/3.2.0/css/bootstrap.min.css&quot;/&gt;\n",
       "    &lt;link rel=&quot;stylesheet&quot; href=&quot;https://maxcdn.bootstrapcdn.com/bootstrap/3.2.0/css/bootstrap-theme.min.css&quot;/&gt;\n",
       "    &lt;link rel=&quot;stylesheet&quot; href=&quot;https://maxcdn.bootstrapcdn.com/font-awesome/4.6.3/css/font-awesome.min.css&quot;/&gt;\n",
       "    &lt;link rel=&quot;stylesheet&quot; href=&quot;https://cdnjs.cloudflare.com/ajax/libs/Leaflet.awesome-markers/2.0.2/leaflet.awesome-markers.css&quot;/&gt;\n",
       "    &lt;link rel=&quot;stylesheet&quot; href=&quot;https://cdn.jsdelivr.net/gh/python-visualization/folium/folium/templates/leaflet.awesome.rotate.min.css&quot;/&gt;\n",
       "    \n",
       "            &lt;meta name=&quot;viewport&quot; content=&quot;width=device-width,\n",
       "                initial-scale=1.0, maximum-scale=1.0, user-scalable=no&quot; /&gt;\n",
       "            &lt;style&gt;\n",
       "                #map_935ddd12ab7942f9c07830aa061edc6f {\n",
       "                    position: relative;\n",
       "                    width: 100.0%;\n",
       "                    height: 100.0%;\n",
       "                    left: 0.0%;\n",
       "                    top: 0.0%;\n",
       "                }\n",
       "            &lt;/style&gt;\n",
       "        \n",
       "&lt;/head&gt;\n",
       "&lt;body&gt;    \n",
       "    \n",
       "            &lt;div class=&quot;folium-map&quot; id=&quot;map_935ddd12ab7942f9c07830aa061edc6f&quot; &gt;&lt;/div&gt;\n",
       "        \n",
       "&lt;/body&gt;\n",
       "&lt;script&gt;    \n",
       "    \n",
       "            var map_935ddd12ab7942f9c07830aa061edc6f = L.map(\n",
       "                &quot;map_935ddd12ab7942f9c07830aa061edc6f&quot;,\n",
       "                {\n",
       "                    center: [-37.810003, 144.962594],\n",
       "                    crs: L.CRS.EPSG3857,\n",
       "                    zoom: 16,\n",
       "                    zoomControl: true,\n",
       "                    preferCanvas: false,\n",
       "                }\n",
       "            );\n",
       "\n",
       "            \n",
       "\n",
       "        \n",
       "    \n",
       "            var tile_layer_73624f86c62373d53e338d7feebc9735 = L.tileLayer(\n",
       "                &quot;https://stamen-tiles-{s}.a.ssl.fastly.net/terrain/{z}/{x}/{y}.jpg&quot;,\n",
       "                {&quot;attribution&quot;: &quot;Map tiles by \\u003ca href=\\&quot;http://stamen.com\\&quot;\\u003eStamen Design\\u003c/a\\u003e, under \\u003ca href=\\&quot;http://creativecommons.org/licenses/by/3.0\\&quot;\\u003eCC BY 3.0\\u003c/a\\u003e. Data by \\u0026copy; \\u003ca href=\\&quot;http://openstreetmap.org\\&quot;\\u003eOpenStreetMap\\u003c/a\\u003e, under \\u003ca href=\\&quot;http://creativecommons.org/licenses/by-sa/3.0\\&quot;\\u003eCC BY SA\\u003c/a\\u003e.&quot;, &quot;detectRetina&quot;: false, &quot;maxNativeZoom&quot;: 18, &quot;maxZoom&quot;: 18, &quot;minZoom&quot;: 0, &quot;noWrap&quot;: false, &quot;opacity&quot;: 1, &quot;subdomains&quot;: &quot;abc&quot;, &quot;tms&quot;: false}\n",
       "            ).addTo(map_935ddd12ab7942f9c07830aa061edc6f);\n",
       "        \n",
       "    \n",
       "            var marker_c7d58b1a1fd092494f1d89e9ae65e327 = L.marker(\n",
       "                [-37.81000275, 144.962594397764],\n",
       "                {}\n",
       "            ).addTo(map_935ddd12ab7942f9c07830aa061edc6f);\n",
       "        \n",
       "    \n",
       "            var icon_328d1f7332e49ee09ebc391a77bf74ba = L.AwesomeMarkers.icon(\n",
       "                {&quot;extraClasses&quot;: &quot;fa-rotate-0&quot;, &quot;icon&quot;: &quot;shopping-cart&quot;, &quot;iconColor&quot;: &quot;white&quot;, &quot;markerColor&quot;: &quot;blue&quot;, &quot;prefix&quot;: &quot;fa&quot;}\n",
       "            );\n",
       "            marker_c7d58b1a1fd092494f1d89e9ae65e327.setIcon(icon_328d1f7332e49ee09ebc391a77bf74ba);\n",
       "        \n",
       "    \n",
       "            var marker_e78428459d51271ad547e6e140295cf5 = L.marker(\n",
       "                [-37.8135544, 144.96529823984],\n",
       "                {}\n",
       "            ).addTo(map_935ddd12ab7942f9c07830aa061edc6f);\n",
       "        \n",
       "    \n",
       "            var icon_76b7b226c463985fbdec564c58721916 = L.AwesomeMarkers.icon(\n",
       "                {&quot;extraClasses&quot;: &quot;fa-rotate-0&quot;, &quot;icon&quot;: &quot;shopping-cart&quot;, &quot;iconColor&quot;: &quot;white&quot;, &quot;markerColor&quot;: &quot;blue&quot;, &quot;prefix&quot;: &quot;fa&quot;}\n",
       "            );\n",
       "            marker_e78428459d51271ad547e6e140295cf5.setIcon(icon_76b7b226c463985fbdec564c58721916);\n",
       "        \n",
       "    \n",
       "            var marker_d3423704b2c9607aa882a9e3a328a924 = L.marker(\n",
       "                [-37.81479605, 144.962883199584],\n",
       "                {}\n",
       "            ).addTo(map_935ddd12ab7942f9c07830aa061edc6f);\n",
       "        \n",
       "    \n",
       "            var icon_6f8b34a8b75e343839f028f7dba94faa = L.AwesomeMarkers.icon(\n",
       "                {&quot;extraClasses&quot;: &quot;fa-rotate-0&quot;, &quot;icon&quot;: &quot;shopping-cart&quot;, &quot;iconColor&quot;: &quot;white&quot;, &quot;markerColor&quot;: &quot;blue&quot;, &quot;prefix&quot;: &quot;fa&quot;}\n",
       "            );\n",
       "            marker_d3423704b2c9607aa882a9e3a328a924.setIcon(icon_6f8b34a8b75e343839f028f7dba94faa);\n",
       "        \n",
       "    \n",
       "            var marker_ba5f9883f4535624e29b259f85d46a7c = L.marker(\n",
       "                [-37.81067565, 144.965706939704],\n",
       "                {}\n",
       "            ).addTo(map_935ddd12ab7942f9c07830aa061edc6f);\n",
       "        \n",
       "    \n",
       "            var icon_fb5e9be5cdc33da449a6004428d9f467 = L.AwesomeMarkers.icon(\n",
       "                {&quot;extraClasses&quot;: &quot;fa-rotate-0&quot;, &quot;icon&quot;: &quot;shopping-cart&quot;, &quot;iconColor&quot;: &quot;white&quot;, &quot;markerColor&quot;: &quot;blue&quot;, &quot;prefix&quot;: &quot;fa&quot;}\n",
       "            );\n",
       "            marker_ba5f9883f4535624e29b259f85d46a7c.setIcon(icon_fb5e9be5cdc33da449a6004428d9f467);\n",
       "        \n",
       "    \n",
       "            var marker_201fd774eb2f23bd6cccba0342a1277a = L.marker(\n",
       "                [-37.81248765, 144.963933645106],\n",
       "                {}\n",
       "            ).addTo(map_935ddd12ab7942f9c07830aa061edc6f);\n",
       "        \n",
       "    \n",
       "            var icon_5055e5aca37a235f501762556d6cd629 = L.AwesomeMarkers.icon(\n",
       "                {&quot;extraClasses&quot;: &quot;fa-rotate-0&quot;, &quot;icon&quot;: &quot;shopping-cart&quot;, &quot;iconColor&quot;: &quot;white&quot;, &quot;markerColor&quot;: &quot;blue&quot;, &quot;prefix&quot;: &quot;fa&quot;}\n",
       "            );\n",
       "            marker_201fd774eb2f23bd6cccba0342a1277a.setIcon(icon_5055e5aca37a235f501762556d6cd629);\n",
       "        \n",
       "    \n",
       "            var marker_6e5f3fe119857e13bee3408b61629652 = L.marker(\n",
       "                [-37.8141461, 144.973194187373],\n",
       "                {}\n",
       "            ).addTo(map_935ddd12ab7942f9c07830aa061edc6f);\n",
       "        \n",
       "    \n",
       "            var icon_aeaf8cd5164cabe1c6ed2f43c2f1dae5 = L.AwesomeMarkers.icon(\n",
       "                {&quot;extraClasses&quot;: &quot;fa-rotate-0&quot;, &quot;icon&quot;: &quot;shopping-cart&quot;, &quot;iconColor&quot;: &quot;white&quot;, &quot;markerColor&quot;: &quot;blue&quot;, &quot;prefix&quot;: &quot;fa&quot;}\n",
       "            );\n",
       "            marker_6e5f3fe119857e13bee3408b61629652.setIcon(icon_aeaf8cd5164cabe1c6ed2f43c2f1dae5);\n",
       "        \n",
       "    \n",
       "            var marker_0fbab46874ed2aaba053e727c49b03fd = L.marker(\n",
       "                [-37.81534, 144.964980625264],\n",
       "                {}\n",
       "            ).addTo(map_935ddd12ab7942f9c07830aa061edc6f);\n",
       "        \n",
       "    \n",
       "            var icon_f831c52389b8ef8ae3ea9da435a19b81 = L.AwesomeMarkers.icon(\n",
       "                {&quot;extraClasses&quot;: &quot;fa-rotate-0&quot;, &quot;icon&quot;: &quot;shopping-cart&quot;, &quot;iconColor&quot;: &quot;white&quot;, &quot;markerColor&quot;: &quot;blue&quot;, &quot;prefix&quot;: &quot;fa&quot;}\n",
       "            );\n",
       "            marker_0fbab46874ed2aaba053e727c49b03fd.setIcon(icon_f831c52389b8ef8ae3ea9da435a19b81);\n",
       "        \n",
       "    \n",
       "            var marker_7fe59c1b98194b3a04d0375801470abf = L.marker(\n",
       "                [-37.8145544, 144.9640906],\n",
       "                {}\n",
       "            ).addTo(map_935ddd12ab7942f9c07830aa061edc6f);\n",
       "        \n",
       "    \n",
       "            var icon_177ca3d50968b4f8ea92e756e73306dc = L.AwesomeMarkers.icon(\n",
       "                {&quot;extraClasses&quot;: &quot;fa-rotate-0&quot;, &quot;icon&quot;: &quot;shopping-cart&quot;, &quot;iconColor&quot;: &quot;white&quot;, &quot;markerColor&quot;: &quot;blue&quot;, &quot;prefix&quot;: &quot;fa&quot;}\n",
       "            );\n",
       "            marker_7fe59c1b98194b3a04d0375801470abf.setIcon(icon_177ca3d50968b4f8ea92e756e73306dc);\n",
       "        \n",
       "    \n",
       "            var marker_2aebe50113eb2fe02436024f11b38e3c = L.marker(\n",
       "                [-37.81365775, 144.963300555688],\n",
       "                {}\n",
       "            ).addTo(map_935ddd12ab7942f9c07830aa061edc6f);\n",
       "        \n",
       "    \n",
       "            var icon_58904cf5e740778e7ce3b86fcf5d97dd = L.AwesomeMarkers.icon(\n",
       "                {&quot;extraClasses&quot;: &quot;fa-rotate-0&quot;, &quot;icon&quot;: &quot;shopping-cart&quot;, &quot;iconColor&quot;: &quot;white&quot;, &quot;markerColor&quot;: &quot;blue&quot;, &quot;prefix&quot;: &quot;fa&quot;}\n",
       "            );\n",
       "            marker_2aebe50113eb2fe02436024f11b38e3c.setIcon(icon_58904cf5e740778e7ce3b86fcf5d97dd);\n",
       "        \n",
       "    \n",
       "            var marker_e2db9cbd30bfe725d4ac83d4aa457906 = L.marker(\n",
       "                [-37.8174087, 144.969066696962],\n",
       "                {}\n",
       "            ).addTo(map_935ddd12ab7942f9c07830aa061edc6f);\n",
       "        \n",
       "    \n",
       "            var icon_c9540b0f3ded42a10461691e590e1d17 = L.AwesomeMarkers.icon(\n",
       "                {&quot;extraClasses&quot;: &quot;fa-rotate-0&quot;, &quot;icon&quot;: &quot;film&quot;, &quot;iconColor&quot;: &quot;white&quot;, &quot;markerColor&quot;: &quot;red&quot;, &quot;prefix&quot;: &quot;fa&quot;}\n",
       "            );\n",
       "            marker_e2db9cbd30bfe725d4ac83d4aa457906.setIcon(icon_c9540b0f3ded42a10461691e590e1d17);\n",
       "        \n",
       "    \n",
       "            var marker_3d8bcdbed3a1f8ed52050f78737bfe2c = L.marker(\n",
       "                [-37.81487825, 144.967288011384],\n",
       "                {}\n",
       "            ).addTo(map_935ddd12ab7942f9c07830aa061edc6f);\n",
       "        \n",
       "    \n",
       "            var icon_2b26f4e97dc0b082936049f0547079ba = L.AwesomeMarkers.icon(\n",
       "                {&quot;extraClasses&quot;: &quot;fa-rotate-0&quot;, &quot;icon&quot;: &quot;film&quot;, &quot;iconColor&quot;: &quot;white&quot;, &quot;markerColor&quot;: &quot;red&quot;, &quot;prefix&quot;: &quot;fa&quot;}\n",
       "            );\n",
       "            marker_3d8bcdbed3a1f8ed52050f78737bfe2c.setIcon(icon_2b26f4e97dc0b082936049f0547079ba);\n",
       "        \n",
       "    \n",
       "            var marker_ad8c67eca2345493793b1e596f30be9b = L.marker(\n",
       "                [-37.8102641, 144.970157768181],\n",
       "                {}\n",
       "            ).addTo(map_935ddd12ab7942f9c07830aa061edc6f);\n",
       "        \n",
       "    \n",
       "            var icon_c49c1b70336c634d94395e3a9ab3f7b5 = L.AwesomeMarkers.icon(\n",
       "                {&quot;extraClasses&quot;: &quot;fa-rotate-0&quot;, &quot;icon&quot;: &quot;film&quot;, &quot;iconColor&quot;: &quot;white&quot;, &quot;markerColor&quot;: &quot;red&quot;, &quot;prefix&quot;: &quot;fa&quot;}\n",
       "            );\n",
       "            marker_ad8c67eca2345493793b1e596f30be9b.setIcon(icon_c49c1b70336c634d94395e3a9ab3f7b5);\n",
       "        \n",
       "    \n",
       "            var marker_efb6842f7eaf74e68e5521a3d2392735 = L.marker(\n",
       "                [-37.81195325, 144.968880144602],\n",
       "                {}\n",
       "            ).addTo(map_935ddd12ab7942f9c07830aa061edc6f);\n",
       "        \n",
       "    \n",
       "            var icon_aff0c8c8d0c12414df41d7bfc126d947 = L.AwesomeMarkers.icon(\n",
       "                {&quot;extraClasses&quot;: &quot;fa-rotate-0&quot;, &quot;icon&quot;: &quot;film&quot;, &quot;iconColor&quot;: &quot;white&quot;, &quot;markerColor&quot;: &quot;red&quot;, &quot;prefix&quot;: &quot;fa&quot;}\n",
       "            );\n",
       "            marker_efb6842f7eaf74e68e5521a3d2392735.setIcon(icon_aff0c8c8d0c12414df41d7bfc126d947);\n",
       "        \n",
       "    \n",
       "            var marker_77bbdec3038fb4f80a75c3334c548dd7 = L.marker(\n",
       "                [-37.8100694, 144.9634038],\n",
       "                {}\n",
       "            ).addTo(map_935ddd12ab7942f9c07830aa061edc6f);\n",
       "        \n",
       "    \n",
       "            var icon_e53d38599a40b69ce669b2e085c9bfcf = L.AwesomeMarkers.icon(\n",
       "                {&quot;extraClasses&quot;: &quot;fa-rotate-0&quot;, &quot;icon&quot;: &quot;film&quot;, &quot;iconColor&quot;: &quot;white&quot;, &quot;markerColor&quot;: &quot;red&quot;, &quot;prefix&quot;: &quot;fa&quot;}\n",
       "            );\n",
       "            marker_77bbdec3038fb4f80a75c3334c548dd7.setIcon(icon_e53d38599a40b69ce669b2e085c9bfcf);\n",
       "        \n",
       "    \n",
       "            var marker_7b683b9b64f06517f050cc7b5108e333 = L.marker(\n",
       "                [-37.8346554, 144.976750672139],\n",
       "                {}\n",
       "            ).addTo(map_935ddd12ab7942f9c07830aa061edc6f);\n",
       "        \n",
       "    \n",
       "            var icon_f673b677674677d5d095c2d2dfc62fe7 = L.AwesomeMarkers.icon(\n",
       "                {&quot;extraClasses&quot;: &quot;fa-rotate-0&quot;, &quot;icon&quot;: &quot;film&quot;, &quot;iconColor&quot;: &quot;white&quot;, &quot;markerColor&quot;: &quot;red&quot;, &quot;prefix&quot;: &quot;fa&quot;}\n",
       "            );\n",
       "            marker_7b683b9b64f06517f050cc7b5108e333.setIcon(icon_f673b677674677d5d095c2d2dfc62fe7);\n",
       "        \n",
       "    \n",
       "            var marker_091582febea80a0789c93e1f6fcd0b57 = L.marker(\n",
       "                [-37.811183, 144.972166],\n",
       "                {}\n",
       "            ).addTo(map_935ddd12ab7942f9c07830aa061edc6f);\n",
       "        \n",
       "    \n",
       "            var icon_64af9cbba3d22b20644d1317790a35d4 = L.AwesomeMarkers.icon(\n",
       "                {&quot;extraClasses&quot;: &quot;fa-rotate-0&quot;, &quot;icon&quot;: &quot;film&quot;, &quot;iconColor&quot;: &quot;white&quot;, &quot;markerColor&quot;: &quot;red&quot;, &quot;prefix&quot;: &quot;fa&quot;}\n",
       "            );\n",
       "            marker_091582febea80a0789c93e1f6fcd0b57.setIcon(icon_64af9cbba3d22b20644d1317790a35d4);\n",
       "        \n",
       "    \n",
       "            var marker_f4821a7573120b303b11f9e5f200be26 = L.marker(\n",
       "                [-37.8106918, 144.972318404721],\n",
       "                {}\n",
       "            ).addTo(map_935ddd12ab7942f9c07830aa061edc6f);\n",
       "        \n",
       "    \n",
       "            var icon_e05dc2b3f91503112197e33cabc29cb5 = L.AwesomeMarkers.icon(\n",
       "                {&quot;extraClasses&quot;: &quot;fa-rotate-0&quot;, &quot;icon&quot;: &quot;film&quot;, &quot;iconColor&quot;: &quot;white&quot;, &quot;markerColor&quot;: &quot;red&quot;, &quot;prefix&quot;: &quot;fa&quot;}\n",
       "            );\n",
       "            marker_f4821a7573120b303b11f9e5f200be26.setIcon(icon_e05dc2b3f91503112197e33cabc29cb5);\n",
       "        \n",
       "    \n",
       "            var marker_e3b0bcc78dab5056477aea97fa94ee2b = L.marker(\n",
       "                [-37.8219497, 144.956406429261],\n",
       "                {}\n",
       "            ).addTo(map_935ddd12ab7942f9c07830aa061edc6f);\n",
       "        \n",
       "    \n",
       "            var icon_a6e95c942bc6e7115e4f241bc999d205 = L.AwesomeMarkers.icon(\n",
       "                {&quot;extraClasses&quot;: &quot;fa-rotate-0&quot;, &quot;icon&quot;: &quot;tree&quot;, &quot;iconColor&quot;: &quot;white&quot;, &quot;markerColor&quot;: &quot;green&quot;, &quot;prefix&quot;: &quot;fa&quot;}\n",
       "            );\n",
       "            marker_e3b0bcc78dab5056477aea97fa94ee2b.setIcon(icon_a6e95c942bc6e7115e4f241bc999d205);\n",
       "        \n",
       "&lt;/script&gt;\" style=\"position:absolute;width:100%;height:100%;left:0;top:0;border:none !important;\" allowfullscreen webkitallowfullscreen mozallowfullscreen></iframe></div></div>"
      ],
      "text/plain": [
       "<folium.folium.Map at 0x7f0e7122a280>"
      ]
     },
     "execution_count": 96,
     "metadata": {},
     "output_type": "execute_result"
    }
   ],
   "source": [
    "m = folium.Map(location=(-37.810003,144.962594), tiles=\"Stamen Terrain\", zoom_start=16)\n",
    "\n",
    "def icon_map(key):\n",
    "    # dictionaries don't work with icons, workaround\n",
    "    if key=='shop': return folium.Icon(icon='shopping-cart', prefix='fa')\n",
    "    elif key=='park': return folium.Icon(icon='tree', prefix='fa', color='green')\n",
    "    elif key=='theater': return folium.Icon(icon='film', prefix='fa', color='red')\n",
    "    else: return\n",
    "\n",
    "for ent, lng, lat in melb_ent[['type','lng','lat']].values:\n",
    "    icon = icon_map(ent)\n",
    "    m.add_child(\n",
    "        folium.Marker(location=(lat,lng), icon=icon)\n",
    "    )\n",
    "m"
   ]
  },
  {
   "cell_type": "markdown",
   "id": "tamil-military",
   "metadata": {},
   "source": [
    "## Public Transport"
   ]
  },
  {
   "cell_type": "code",
   "execution_count": 20,
   "id": "material-alcohol",
   "metadata": {},
   "outputs": [
    {
     "data": {
      "text/plain": [
       "Text(0.5, 1.0, 'Suburbs with Top 10 Total PTV Stations')"
      ]
     },
     "execution_count": 20,
     "metadata": {},
     "output_type": "execute_result"
    },
    {
     "data": {
      "image/png": "[encoded data removed]",
      "text/plain": [
       "<Figure size 720x288 with 1 Axes>"
      ]
     },
     "metadata": {
      "needs_background": "light"
     },
     "output_type": "display_data"
    }
   ],
   "source": [
    "fig, ax = p(1,1,10,4)\n",
    "sub.nlargest(10, 'Total Stations')[['Suburb','Train','Tram','Bus','Total Stations']].plot(\n",
    "    kind='barh', x='Suburb', y=['Train','Tram','Bus'], stacked=True, title='Suburbs with Top 10 Total PTV Station Counts', ax=ax)\n",
    "plt.xlabel('Count')\n",
    "plt.title('Suburbs with Top 10 Total PTV Stations', size=16)"
   ]
  },
  {
   "cell_type": "code",
   "execution_count": 21,
   "id": "square-expense",
   "metadata": {},
   "outputs": [
    {
     "data": {
      "text/plain": [
       "Text(0.5, 1.0, 'Suburbs with Top 10 Tram Stations')"
      ]
     },
     "execution_count": 21,
     "metadata": {},
     "output_type": "execute_result"
    },
    {
     "data": {
      "image/png": "[encoded data removed]",
      "text/plain": [
       "<Figure size 720x288 with 1 Axes>"
      ]
     },
     "metadata": {
      "needs_background": "light"
     },
     "output_type": "display_data"
    }
   ],
   "source": [
    "fig, ax = p(1,1,10,4)\n",
    "sub.nlargest(10, 'Tram')[['Suburb','Train','Tram','Bus','Total Stations']].plot(\n",
    "    kind='barh', x='Suburb', y=['Tram','Train','Bus'], stacked=True, title='Suburbs with Top 10 Tram Station Counts', ax=ax)\n",
    "plt.ylabel('Count')\n",
    "plt.title('Suburbs with Top 10 Tram Stations', size=16)"
   ]
  },
  {
   "cell_type": "markdown",
   "id": "beautiful-crime",
   "metadata": {},
   "source": [
    "## Education"
   ]
  },
  {
   "cell_type": "code",
   "execution_count": 22,
   "id": "economic-ordering",
   "metadata": {},
   "outputs": [],
   "source": [
    "educ = sub[['Suburb', 'education', 'education_rank', 'schools_Combined', 'schools_Primary',\n",
    "       'schools_Secondary', 'schools_total', 'school_rank_min',\n",
    "       'school_rank_mean', 'school_rank_max']].copy()\n",
    "educ.columns = ['Suburb', 'Tertiary', 'Tertiary Rank', 'Combined', 'Primary',\n",
    "       'Secondary', 'Schools', 'HS Rank (min)',\n",
    "       'HS Rank (avg)', 'HS Rank (max)']"
   ]
  },
  {
   "cell_type": "code",
   "execution_count": 23,
   "id": "professional-trance",
   "metadata": {},
   "outputs": [
    {
     "data": {
      "text/plain": [
       "Text(0.5, 1.0, 'Suburbs with Top 10 Tertiary/University Education Rates')"
      ]
     },
     "execution_count": 23,
     "metadata": {},
     "output_type": "execute_result"
    },
    {
     "data": {
      "image/png": "[encoded data removed]",
      "text/plain": [
       "<Figure size 360x288 with 1 Axes>"
      ]
     },
     "metadata": {
      "needs_background": "light"
     },
     "output_type": "display_data"
    }
   ],
   "source": [
    "fig, ax = p(1,1,5,4)\n",
    "educ.nlargest(10, 'Tertiary').plot(kind='barh', x='Suburb', y='Tertiary', title='Top Tertiary/University Education %', ax=ax)\n",
    "plt.xlabel('Percentage %')\n",
    "ax.get_legend().remove()\n",
    "plt.title('Suburbs with Top 10 Tertiary/University Education Rates', size=14)"
   ]
  },
  {
   "cell_type": "code",
   "execution_count": 24,
   "id": "composed-wholesale",
   "metadata": {},
   "outputs": [
    {
     "data": {
      "text/plain": [
       "Text(0.5, 1.0, 'Suburbs with Top 10 Total Schools')"
      ]
     },
     "execution_count": 24,
     "metadata": {},
     "output_type": "execute_result"
    },
    {
     "data": {
      "image/png": "[encoded data removed]",
      "text/plain": [
       "<Figure size 360x288 with 1 Axes>"
      ]
     },
     "metadata": {
      "needs_background": "light"
     },
     "output_type": "display_data"
    }
   ],
   "source": [
    "fig, ax = p(1,1,5,4)\n",
    "educ.nlargest(10, \"Schools\").plot(kind='barh', x='Suburb', y=['Combined','Primary','Secondary'], stacked=True, ax=ax)\n",
    "plt.xlabel('Count')\n",
    "plt.title(\"Suburbs with Top 10 Total Schools\", size=16)"
   ]
  },
  {
   "cell_type": "code",
   "execution_count": 25,
   "id": "declared-orientation",
   "metadata": {},
   "outputs": [
    {
     "data": {
      "text/plain": [
       "<seaborn.axisgrid.PairGrid at 0x7f0e7bce1b50>"
      ]
     },
     "execution_count": 25,
     "metadata": {},
     "output_type": "execute_result"
    },
    {
     "data": {
      "image/png": "[encoded data removed]",
      "text/plain": [
       "<Figure size 540x540 with 12 Axes>"
      ]
     },
     "metadata": {
      "needs_background": "light"
     },
     "output_type": "display_data"
    }
   ],
   "source": [
    "sns.pairplot(educ[['HS Rank (min)', 'HS Rank (avg)', 'HS Rank (max)']])"
   ]
  },
  {
   "cell_type": "code",
   "execution_count": 26,
   "id": "elegant-fraction",
   "metadata": {},
   "outputs": [
    {
     "data": {
      "text/plain": [
       "Text(0.5, 1.0, 'Suburbs with Top 10 High School Rankings')"
      ]
     },
     "execution_count": 26,
     "metadata": {},
     "output_type": "execute_result"
    },
    {
     "data": {
      "image/png": "[encoded data removed]",
      "text/plain": [
       "<Figure size 720x288 with 1 Axes>"
      ]
     },
     "metadata": {
      "needs_background": "light"
     },
     "output_type": "display_data"
    }
   ],
   "source": [
    "fig, ax = p(1,1,10,4)\n",
    "sns.barplot(\n",
    "    data=educ.nsmallest(10, 'HS Rank (avg)')[\n",
    "        ['Suburb','HS Rank (min)','HS Rank (avg)','HS Rank (max)']].melt(\n",
    "        'Suburb', var_name='Rank'), \n",
    "    y='Suburb', x='value', hue='Rank')\n",
    "plt.xlabel(\"Rank\")\n",
    "plt.title(\"Suburbs with Top 10 High School Rankings\", size=16)"
   ]
  },
  {
   "cell_type": "markdown",
   "id": "advanced-skill",
   "metadata": {},
   "source": [
    "## Affordability"
   ]
  },
  {
   "cell_type": "code",
   "execution_count": 27,
   "id": "spare-wisdom",
   "metadata": {},
   "outputs": [
    {
     "data": {
      "text/plain": [
       "Text(0.5, 1.0, 'Suburbs with Top 10 Affordable Rent')"
      ]
     },
     "execution_count": 27,
     "metadata": {},
     "output_type": "execute_result"
    },
    {
     "data": {
      "image/png": "[encoded data removed]",
      "text/plain": [
       "<Figure size 720x288 with 1 Axes>"
      ]
     },
     "metadata": {
      "needs_background": "light"
     },
     "output_type": "display_data"
    }
   ],
   "source": [
    "fig, ax = p(1,1,10,4)\n",
    "sub.nsmallest(10, 'rent').plot(kind='barh', x='Suburb', y='rent', ax=ax, color='brown')\n",
    "ax.get_legend().remove()\n",
    "ax.set_xlabel(\"Avg. Weekly Rent Price\")\n",
    "plt.title(\"Suburbs with Top 10 Affordable Rent\")"
   ]
  },
  {
   "cell_type": "code",
   "execution_count": 28,
   "id": "mobile-warrant",
   "metadata": {},
   "outputs": [
    {
     "data": {
      "text/plain": [
       "Text(0.5, 1.0, 'Suburbs with Top 10 Affordable Properties')"
      ]
     },
     "execution_count": 28,
     "metadata": {},
     "output_type": "execute_result"
    },
    {
     "data": {
      "image/png": "[encoded data removed]",
      "text/plain": [
       "<Figure size 720x288 with 1 Axes>"
      ]
     },
     "metadata": {
      "needs_background": "light"
     },
     "output_type": "display_data"
    }
   ],
   "source": [
    "fig, ax = p(1,1,10,4)\n",
    "sub.nsmallest(10, 'sold').plot(kind='barh', x='Suburb', y='sold', ax=ax)\n",
    "ax.get_legend().remove()\n",
    "ax.set_xlabel(\"Avg. Sold Price\")\n",
    "plt.title(\"Suburbs with Top 10 Affordable Properties\")"
   ]
  },
  {
   "cell_type": "markdown",
   "id": "welcome-accessory",
   "metadata": {},
   "source": [
    "## Employment & Income"
   ]
  },
  {
   "cell_type": "code",
   "execution_count": 29,
   "id": "stainless-retailer",
   "metadata": {},
   "outputs": [
    {
     "data": {
      "text/plain": [
       "Text(0.5, 1.0, 'Suburbs with Top 10 Rates of Occupation Professionals')"
      ]
     },
     "execution_count": 29,
     "metadata": {},
     "output_type": "execute_result"
    },
    {
     "data": {
      "image/png": "[encoded data removed]",
      "text/plain": [
       "<Figure size 720x288 with 1 Axes>"
      ]
     },
     "metadata": {
      "needs_background": "light"
     },
     "output_type": "display_data"
    }
   ],
   "source": [
    "fig,ax = p(1,1,10,4)\n",
    "emp = sub[['Suburb','occupation','income']].copy()\n",
    "emp.columns = ['Suburb', 'Professionals %', 'Median Weekly Income']\n",
    "# sns.barplot(data=emp.nlargest(10, 'Professionals %'), y='Suburb', x='Professionals %')\n",
    "emp.nlargest(10, 'Professionals %').plot(kind='barh', x='Suburb', y='Professionals %', ax=ax)\n",
    "ax.get_legend().remove()\n",
    "plt.title(\"Suburbs with Top 10 Rates of Occupation Professionals\", size=16)"
   ]
  },
  {
   "cell_type": "code",
   "execution_count": 30,
   "id": "blessed-seafood",
   "metadata": {},
   "outputs": [
    {
     "data": {
      "text/plain": [
       "Text(0.5, 1.0, 'Suburbs with Top 10 Median Weekly Income')"
      ]
     },
     "execution_count": 30,
     "metadata": {},
     "output_type": "execute_result"
    },
    {
     "data": {
      "image/png": "[encoded data removed]",
      "text/plain": [
       "<Figure size 720x288 with 1 Axes>"
      ]
     },
     "metadata": {
      "needs_background": "light"
     },
     "output_type": "display_data"
    }
   ],
   "source": [
    "fig, ax = p(1,1,10,4)\n",
    "emp.nlargest(10, 'Median Weekly Income').plot(kind='barh', x='Suburb', y='Median Weekly Income', ax=ax, color='green')\n",
    "ax.get_legend().remove()\n",
    "plt.title(\"Suburbs with Top 10 Median Weekly Income\", size=16)"
   ]
  },
  {
   "cell_type": "markdown",
   "id": "hollywood-replacement",
   "metadata": {},
   "source": [
    "# Aggregate Analyses\n",
    "\n",
    "💡 dynamic weights on ranks!\n",
    "\n",
    "Normalise by area..???"
   ]
  },
  {
   "cell_type": "code",
   "execution_count": 31,
   "id": "square-syndication",
   "metadata": {},
   "outputs": [
    {
     "data": {
      "text/plain": [
       "4544    0.033162\n",
       "4545    0.000178\n",
       "4546    0.000159\n",
       "4547    0.001107\n",
       "4548    0.007381\n",
       "          ...   \n",
       "7483    0.003174\n",
       "7484    0.000906\n",
       "7485    0.005404\n",
       "7486    0.001808\n",
       "7487    0.026011\n",
       "Name: geometry, Length: 2944, dtype: float64"
      ]
     },
     "execution_count": 31,
     "metadata": {},
     "output_type": "execute_result"
    }
   ],
   "source": [
    "sf['geometry'].apply(lambda x: x.area)"
   ]
  },
  {
   "cell_type": "code",
   "execution_count": 32,
   "id": "known-illness",
   "metadata": {},
   "outputs": [],
   "source": [
    "pct_cols = [\n",
    "    'education_pct', 'income_pct', 'sold_pct', 'rent_pct', 'occupation_pct', \n",
    "    'schools_Combined_pct', 'schools_Primary_pct', 'schools_Secondary_pct', \n",
    "    'schools_total_pct', 'Train_pct', 'Tram_pct',\n",
    "    'Bus_pct', 'Total Stations_pct', \n",
    "    'shop_pct', 'theater_pct', 'park_pct',\n",
    "    'entertainment_pct'\n",
    "]\n",
    "\n",
    "pct = sub[['Suburb'] + pct_cols].copy()\n",
    "pct[pct_cols] = pct[pct_cols].fillna(pct[pct_cols].mean()) # mean imputation\n",
    "\n",
    "pct.columns = [\n",
    "    'Suburb', 'Education', 'Income', 'Sold', 'Rent', 'Professionals',\n",
    "    'Combined', 'Primary', 'Secondary',\n",
    "    'Schools', 'Train', 'Tram',\n",
    "    'Bus', 'Stations',\n",
    "    'Shop', 'Theater', 'Park',\n",
    "    'Entertainment']"
   ]
  },
  {
   "cell_type": "code",
   "execution_count": 33,
   "id": "liberal-liberal",
   "metadata": {},
   "outputs": [
    {
     "data": {
      "text/html": [
       "<style type=\"text/css\">\n",
       "#T_75d37_row0_col0, #T_75d37_row0_col2, #T_75d37_row0_col3, #T_75d37_row0_col6, #T_75d37_row0_col7, #T_75d37_row0_col9, #T_75d37_row0_col10, #T_75d37_row0_col11, #T_75d37_row1_col6, #T_75d37_row2_col6, #T_75d37_row2_col7, #T_75d37_row2_col10, #T_75d37_row3_col4, #T_75d37_row3_col7, #T_75d37_row4_col8, #T_75d37_row5_col1, #T_75d37_row5_col6, #T_75d37_row5_col7, #T_75d37_row6_col5 {\n",
       "  background-color: #fff7fb;\n",
       "  color: #000000;\n",
       "}\n",
       "#T_75d37_row0_col1, #T_75d37_row0_col4, #T_75d37_row2_col8, #T_75d37_row3_col2, #T_75d37_row3_col8, #T_75d37_row4_col10, #T_75d37_row5_col10, #T_75d37_row6_col2, #T_75d37_row6_col3, #T_75d37_row6_col6, #T_75d37_row7_col5, #T_75d37_row8_col7, #T_75d37_row9_col0, #T_75d37_row9_col4, #T_75d37_row9_col7, #T_75d37_row9_col9, #T_75d37_row9_col11 {\n",
       "  background-color: #023858;\n",
       "  color: #f1f1f1;\n",
       "}\n",
       "#T_75d37_row0_col5, #T_75d37_row5_col5, #T_75d37_row6_col1 {\n",
       "  background-color: #fdf5fa;\n",
       "  color: #000000;\n",
       "}\n",
       "#T_75d37_row0_col8 {\n",
       "  background-color: #d8d7e9;\n",
       "  color: #000000;\n",
       "}\n",
       "#T_75d37_row1_col0, #T_75d37_row5_col0 {\n",
       "  background-color: #d5d5e8;\n",
       "  color: #000000;\n",
       "}\n",
       "#T_75d37_row1_col1 {\n",
       "  background-color: #e2dfee;\n",
       "  color: #000000;\n",
       "}\n",
       "#T_75d37_row1_col2, #T_75d37_row2_col3, #T_75d37_row6_col11 {\n",
       "  background-color: #045f95;\n",
       "  color: #f1f1f1;\n",
       "}\n",
       "#T_75d37_row1_col3 {\n",
       "  background-color: #0566a0;\n",
       "  color: #f1f1f1;\n",
       "}\n",
       "#T_75d37_row1_col4 {\n",
       "  background-color: #bfc9e1;\n",
       "  color: #000000;\n",
       "}\n",
       "#T_75d37_row1_col5, #T_75d37_row2_col5, #T_75d37_row7_col0, #T_75d37_row8_col1, #T_75d37_row8_col5, #T_75d37_row9_col5 {\n",
       "  background-color: #faf2f8;\n",
       "  color: #000000;\n",
       "}\n",
       "#T_75d37_row1_col7, #T_75d37_row4_col7, #T_75d37_row7_col7 {\n",
       "  background-color: #fef6fa;\n",
       "  color: #000000;\n",
       "}\n",
       "#T_75d37_row1_col8 {\n",
       "  background-color: #f5eef6;\n",
       "  color: #000000;\n",
       "}\n",
       "#T_75d37_row1_col9 {\n",
       "  background-color: #e1dfed;\n",
       "  color: #000000;\n",
       "}\n",
       "#T_75d37_row1_col10, #T_75d37_row3_col10, #T_75d37_row6_col10, #T_75d37_row7_col10, #T_75d37_row8_col10, #T_75d37_row9_col10 {\n",
       "  background-color: #f7f0f7;\n",
       "  color: #000000;\n",
       "}\n",
       "#T_75d37_row1_col11 {\n",
       "  background-color: #f8f1f8;\n",
       "  color: #000000;\n",
       "}\n",
       "#T_75d37_row2_col0, #T_75d37_row6_col0 {\n",
       "  background-color: #e0deed;\n",
       "  color: #000000;\n",
       "}\n",
       "#T_75d37_row2_col1 {\n",
       "  background-color: #f4edf6;\n",
       "  color: #000000;\n",
       "}\n",
       "#T_75d37_row2_col2 {\n",
       "  background-color: #056dab;\n",
       "  color: #f1f1f1;\n",
       "}\n",
       "#T_75d37_row2_col4 {\n",
       "  background-color: #8cb3d5;\n",
       "  color: #000000;\n",
       "}\n",
       "#T_75d37_row2_col9 {\n",
       "  background-color: #a1bbda;\n",
       "  color: #000000;\n",
       "}\n",
       "#T_75d37_row2_col11, #T_75d37_row5_col9 {\n",
       "  background-color: #f1ebf4;\n",
       "  color: #000000;\n",
       "}\n",
       "#T_75d37_row3_col0 {\n",
       "  background-color: #fbf4f9;\n",
       "  color: #000000;\n",
       "}\n",
       "#T_75d37_row3_col1, #T_75d37_row8_col6, #T_75d37_row9_col6 {\n",
       "  background-color: #ece7f2;\n",
       "  color: #000000;\n",
       "}\n",
       "#T_75d37_row3_col3, #T_75d37_row5_col2 {\n",
       "  background-color: #023d60;\n",
       "  color: #f1f1f1;\n",
       "}\n",
       "#T_75d37_row3_col5 {\n",
       "  background-color: #ebe6f2;\n",
       "  color: #000000;\n",
       "}\n",
       "#T_75d37_row3_col6 {\n",
       "  background-color: #fbf3f9;\n",
       "  color: #000000;\n",
       "}\n",
       "#T_75d37_row3_col9 {\n",
       "  background-color: #81aed2;\n",
       "  color: #f1f1f1;\n",
       "}\n",
       "#T_75d37_row3_col11 {\n",
       "  background-color: #b4c4df;\n",
       "  color: #000000;\n",
       "}\n",
       "#T_75d37_row4_col0 {\n",
       "  background-color: #69a5cc;\n",
       "  color: #f1f1f1;\n",
       "}\n",
       "#T_75d37_row4_col1, #T_75d37_row9_col2 {\n",
       "  background-color: #e5e1ef;\n",
       "  color: #000000;\n",
       "}\n",
       "#T_75d37_row4_col2 {\n",
       "  background-color: #04639b;\n",
       "  color: #f1f1f1;\n",
       "}\n",
       "#T_75d37_row4_col3 {\n",
       "  background-color: #93b5d6;\n",
       "  color: #000000;\n",
       "}\n",
       "#T_75d37_row4_col4, #T_75d37_row7_col4, #T_75d37_row8_col4, #T_75d37_row8_col9 {\n",
       "  background-color: #2a88bc;\n",
       "  color: #f1f1f1;\n",
       "}\n",
       "#T_75d37_row4_col5, #T_75d37_row4_col6, #T_75d37_row6_col7, #T_75d37_row7_col6 {\n",
       "  background-color: #fef6fb;\n",
       "  color: #000000;\n",
       "}\n",
       "#T_75d37_row4_col9 {\n",
       "  background-color: #efe9f3;\n",
       "  color: #000000;\n",
       "}\n",
       "#T_75d37_row4_col11 {\n",
       "  background-color: #0567a1;\n",
       "  color: #f1f1f1;\n",
       "}\n",
       "#T_75d37_row5_col3 {\n",
       "  background-color: #02395a;\n",
       "  color: #f1f1f1;\n",
       "}\n",
       "#T_75d37_row5_col4, #T_75d37_row6_col4 {\n",
       "  background-color: #f3edf5;\n",
       "  color: #000000;\n",
       "}\n",
       "#T_75d37_row5_col8 {\n",
       "  background-color: #cacee5;\n",
       "  color: #000000;\n",
       "}\n",
       "#T_75d37_row5_col11 {\n",
       "  background-color: #046299;\n",
       "  color: #f1f1f1;\n",
       "}\n",
       "#T_75d37_row6_col8 {\n",
       "  background-color: #f2ecf5;\n",
       "  color: #000000;\n",
       "}\n",
       "#T_75d37_row6_col9 {\n",
       "  background-color: #e9e5f1;\n",
       "  color: #000000;\n",
       "}\n",
       "#T_75d37_row7_col1 {\n",
       "  background-color: #b8c6e0;\n",
       "  color: #000000;\n",
       "}\n",
       "#T_75d37_row7_col2 {\n",
       "  background-color: #1e80b8;\n",
       "  color: #f1f1f1;\n",
       "}\n",
       "#T_75d37_row7_col3 {\n",
       "  background-color: #2c89bd;\n",
       "  color: #f1f1f1;\n",
       "}\n",
       "#T_75d37_row7_col8 {\n",
       "  background-color: #f0eaf4;\n",
       "  color: #000000;\n",
       "}\n",
       "#T_75d37_row7_col9 {\n",
       "  background-color: #dddbec;\n",
       "  color: #000000;\n",
       "}\n",
       "#T_75d37_row7_col11 {\n",
       "  background-color: #04598c;\n",
       "  color: #f1f1f1;\n",
       "}\n",
       "#T_75d37_row8_col0 {\n",
       "  background-color: #0c74b2;\n",
       "  color: #f1f1f1;\n",
       "}\n",
       "#T_75d37_row8_col2 {\n",
       "  background-color: #348ebf;\n",
       "  color: #f1f1f1;\n",
       "}\n",
       "#T_75d37_row8_col3 {\n",
       "  background-color: #8fb4d6;\n",
       "  color: #000000;\n",
       "}\n",
       "#T_75d37_row8_col8 {\n",
       "  background-color: #d3d4e7;\n",
       "  color: #000000;\n",
       "}\n",
       "#T_75d37_row8_col11 {\n",
       "  background-color: #03466e;\n",
       "  color: #f1f1f1;\n",
       "}\n",
       "#T_75d37_row9_col1 {\n",
       "  background-color: #c0c9e2;\n",
       "  color: #000000;\n",
       "}\n",
       "#T_75d37_row9_col3 {\n",
       "  background-color: #e7e3f0;\n",
       "  color: #000000;\n",
       "}\n",
       "#T_75d37_row9_col8 {\n",
       "  background-color: #88b1d4;\n",
       "  color: #000000;\n",
       "}\n",
       "</style>\n",
       "<table id=\"T_75d37\">\n",
       "  <thead>\n",
       "    <tr>\n",
       "      <th class=\"blank level0\" >&nbsp;</th>\n",
       "      <th id=\"T_75d37_level0_col0\" class=\"col_heading level0 col0\" >Education</th>\n",
       "      <th id=\"T_75d37_level0_col1\" class=\"col_heading level0 col1\" >Income</th>\n",
       "      <th id=\"T_75d37_level0_col2\" class=\"col_heading level0 col2\" >Sold</th>\n",
       "      <th id=\"T_75d37_level0_col3\" class=\"col_heading level0 col3\" >Rent</th>\n",
       "      <th id=\"T_75d37_level0_col4\" class=\"col_heading level0 col4\" >Professionals</th>\n",
       "      <th id=\"T_75d37_level0_col5\" class=\"col_heading level0 col5\" >Schools</th>\n",
       "      <th id=\"T_75d37_level0_col6\" class=\"col_heading level0 col6\" >Train</th>\n",
       "      <th id=\"T_75d37_level0_col7\" class=\"col_heading level0 col7\" >Tram</th>\n",
       "      <th id=\"T_75d37_level0_col8\" class=\"col_heading level0 col8\" >Bus</th>\n",
       "      <th id=\"T_75d37_level0_col9\" class=\"col_heading level0 col9\" >Stations</th>\n",
       "      <th id=\"T_75d37_level0_col10\" class=\"col_heading level0 col10\" >Entertainment</th>\n",
       "      <th id=\"T_75d37_level0_col11\" class=\"col_heading level0 col11\" >Mean</th>\n",
       "    </tr>\n",
       "    <tr>\n",
       "      <th class=\"index_name level0\" >Suburb</th>\n",
       "      <th class=\"blank col0\" >&nbsp;</th>\n",
       "      <th class=\"blank col1\" >&nbsp;</th>\n",
       "      <th class=\"blank col2\" >&nbsp;</th>\n",
       "      <th class=\"blank col3\" >&nbsp;</th>\n",
       "      <th class=\"blank col4\" >&nbsp;</th>\n",
       "      <th class=\"blank col5\" >&nbsp;</th>\n",
       "      <th class=\"blank col6\" >&nbsp;</th>\n",
       "      <th class=\"blank col7\" >&nbsp;</th>\n",
       "      <th class=\"blank col8\" >&nbsp;</th>\n",
       "      <th class=\"blank col9\" >&nbsp;</th>\n",
       "      <th class=\"blank col10\" >&nbsp;</th>\n",
       "      <th class=\"blank col11\" >&nbsp;</th>\n",
       "    </tr>\n",
       "  </thead>\n",
       "  <tbody>\n",
       "    <tr>\n",
       "      <th id=\"T_75d37_level0_row0\" class=\"row_heading level0 row0\" >Melbourne</th>\n",
       "      <td id=\"T_75d37_row0_col0\" class=\"data row0 col0\" >Top 0.2%</td>\n",
       "      <td id=\"T_75d37_row0_col1\" class=\"data row0 col1\" >Top 71.5%</td>\n",
       "      <td id=\"T_75d37_row0_col2\" class=\"data row0 col2\" >Top 52.7%</td>\n",
       "      <td id=\"T_75d37_row0_col3\" class=\"data row0 col3\" >Top 71.1%</td>\n",
       "      <td id=\"T_75d37_row0_col4\" class=\"data row0 col4\" >Top 10.4%</td>\n",
       "      <td id=\"T_75d37_row0_col5\" class=\"data row0 col5\" >Top 1.8%</td>\n",
       "      <td id=\"T_75d37_row0_col6\" class=\"data row0 col6\" >Top 0.0%</td>\n",
       "      <td id=\"T_75d37_row0_col7\" class=\"data row0 col7\" >Top 0.0%</td>\n",
       "      <td id=\"T_75d37_row0_col8\" class=\"data row0 col8\" >Top 6.9%</td>\n",
       "      <td id=\"T_75d37_row0_col9\" class=\"data row0 col9\" >Top 0.6%</td>\n",
       "      <td id=\"T_75d37_row0_col10\" class=\"data row0 col10\" >Top 0.0%</td>\n",
       "      <td id=\"T_75d37_row0_col11\" class=\"data row0 col11\" >Top 19.6%</td>\n",
       "    </tr>\n",
       "    <tr>\n",
       "      <th id=\"T_75d37_level0_row1\" class=\"row_heading level0 row1\" >Northcote</th>\n",
       "      <td id=\"T_75d37_row1_col0\" class=\"data row1 col0\" >Top 4.8%</td>\n",
       "      <td id=\"T_75d37_row1_col1\" class=\"data row1 col1\" >Top 12.5%</td>\n",
       "      <td id=\"T_75d37_row1_col2\" class=\"data row1 col2\" >Top 91.3%</td>\n",
       "      <td id=\"T_75d37_row1_col3\" class=\"data row1 col3\" >Top 91.3%</td>\n",
       "      <td id=\"T_75d37_row1_col4\" class=\"data row1 col4\" >Top 3.8%</td>\n",
       "      <td id=\"T_75d37_row1_col5\" class=\"data row1 col5\" >Top 3.8%</td>\n",
       "      <td id=\"T_75d37_row1_col6\" class=\"data row1 col6\" >Top 0.2%</td>\n",
       "      <td id=\"T_75d37_row1_col7\" class=\"data row1 col7\" >Top 1.0%</td>\n",
       "      <td id=\"T_75d37_row1_col8\" class=\"data row1 col8\" >Top 4.1%</td>\n",
       "      <td id=\"T_75d37_row1_col9\" class=\"data row1 col9\" >Top 2.6%</td>\n",
       "      <td id=\"T_75d37_row1_col10\" class=\"data row1 col10\" >Top 5.1%</td>\n",
       "      <td id=\"T_75d37_row1_col11\" class=\"data row1 col11\" >Top 20.1%</td>\n",
       "    </tr>\n",
       "    <tr>\n",
       "      <th id=\"T_75d37_level0_row2\" class=\"row_heading level0 row2\" >Richmond</th>\n",
       "      <td id=\"T_75d37_row2_col0\" class=\"data row2 col0\" >Top 3.8%</td>\n",
       "      <td id=\"T_75d37_row2_col1\" class=\"data row2 col1\" >Top 6.1%</td>\n",
       "      <td id=\"T_75d37_row2_col2\" class=\"data row2 col2\" >Top 87.7%</td>\n",
       "      <td id=\"T_75d37_row2_col3\" class=\"data row2 col3\" >Top 92.3%</td>\n",
       "      <td id=\"T_75d37_row2_col4\" class=\"data row2 col4\" >Top 5.1%</td>\n",
       "      <td id=\"T_75d37_row2_col5\" class=\"data row2 col5\" >Top 3.8%</td>\n",
       "      <td id=\"T_75d37_row2_col6\" class=\"data row2 col6\" >Top 0.2%</td>\n",
       "      <td id=\"T_75d37_row2_col7\" class=\"data row2 col7\" >Top 0.1%</td>\n",
       "      <td id=\"T_75d37_row2_col8\" class=\"data row2 col8\" >Top 21.7%</td>\n",
       "      <td id=\"T_75d37_row2_col9\" class=\"data row2 col9\" >Top 5.0%</td>\n",
       "      <td id=\"T_75d37_row2_col10\" class=\"data row2 col10\" >Top 0.3%</td>\n",
       "      <td id=\"T_75d37_row2_col11\" class=\"data row2 col11\" >Top 20.6%</td>\n",
       "    </tr>\n",
       "    <tr>\n",
       "      <th id=\"T_75d37_level0_row3\" class=\"row_heading level0 row3\" >Hawthorn</th>\n",
       "      <td id=\"T_75d37_row3_col0\" class=\"data row3 col0\" >Top 0.7%</td>\n",
       "      <td id=\"T_75d37_row3_col1\" class=\"data row3 col1\" >Top 9.6%</td>\n",
       "      <td id=\"T_75d37_row3_col2\" class=\"data row3 col2\" >Top 98.3%</td>\n",
       "      <td id=\"T_75d37_row3_col3\" class=\"data row3 col3\" >Top 95.6%</td>\n",
       "      <td id=\"T_75d37_row3_col4\" class=\"data row3 col4\" >Top 0.9%</td>\n",
       "      <td id=\"T_75d37_row3_col5\" class=\"data row3 col5\" >Top 13.1%</td>\n",
       "      <td id=\"T_75d37_row3_col6\" class=\"data row3 col6\" >Top 2.8%</td>\n",
       "      <td id=\"T_75d37_row3_col7\" class=\"data row3 col7\" >Top 0.2%</td>\n",
       "      <td id=\"T_75d37_row3_col8\" class=\"data row3 col8\" >Top 21.7%</td>\n",
       "      <td id=\"T_75d37_row3_col9\" class=\"data row3 col9\" >Top 5.9%</td>\n",
       "      <td id=\"T_75d37_row3_col10\" class=\"data row3 col10\" >Top 5.1%</td>\n",
       "      <td id=\"T_75d37_row3_col11\" class=\"data row3 col11\" >Top 23.1%</td>\n",
       "    </tr>\n",
       "    <tr>\n",
       "      <th id=\"T_75d37_level0_row4\" class=\"row_heading level0 row4\" >Essendon</th>\n",
       "      <td id=\"T_75d37_row4_col0\" class=\"data row4 col0\" >Top 10.7%</td>\n",
       "      <td id=\"T_75d37_row4_col1\" class=\"data row4 col1\" >Top 11.9%</td>\n",
       "      <td id=\"T_75d37_row4_col2\" class=\"data row4 col2\" >Top 90.1%</td>\n",
       "      <td id=\"T_75d37_row4_col3\" class=\"data row4 col3\" >Top 81.8%</td>\n",
       "      <td id=\"T_75d37_row4_col4\" class=\"data row4 col4\" >Top 7.1%</td>\n",
       "      <td id=\"T_75d37_row4_col5\" class=\"data row4 col5\" >Top 0.6%</td>\n",
       "      <td id=\"T_75d37_row4_col6\" class=\"data row4 col6\" >Top 0.8%</td>\n",
       "      <td id=\"T_75d37_row4_col7\" class=\"data row4 col7\" >Top 1.1%</td>\n",
       "      <td id=\"T_75d37_row4_col8\" class=\"data row4 col8\" >Top 2.8%</td>\n",
       "      <td id=\"T_75d37_row4_col9\" class=\"data row4 col9\" >Top 1.8%</td>\n",
       "      <td id=\"T_75d37_row4_col10\" class=\"data row4 col10\" >Top 99.9%</td>\n",
       "      <td id=\"T_75d37_row4_col11\" class=\"data row4 col11\" >Top 28.1%</td>\n",
       "    </tr>\n",
       "    <tr>\n",
       "      <th id=\"T_75d37_level0_row5\" class=\"row_heading level0 row5\" >Camberwell</th>\n",
       "      <td id=\"T_75d37_row5_col0\" class=\"data row5 col0\" >Top 4.8%</td>\n",
       "      <td id=\"T_75d37_row5_col1\" class=\"data row5 col1\" >Top 0.6%</td>\n",
       "      <td id=\"T_75d37_row5_col2\" class=\"data row5 col2\" >Top 97.3%</td>\n",
       "      <td id=\"T_75d37_row5_col3\" class=\"data row5 col3\" >Top 96.0%</td>\n",
       "      <td id=\"T_75d37_row5_col4\" class=\"data row5 col4\" >Top 1.7%</td>\n",
       "      <td id=\"T_75d37_row5_col5\" class=\"data row5 col5\" >Top 1.8%</td>\n",
       "      <td id=\"T_75d37_row5_col6\" class=\"data row5 col6\" >Top 0.2%</td>\n",
       "      <td id=\"T_75d37_row5_col7\" class=\"data row5 col7\" >Top 0.1%</td>\n",
       "      <td id=\"T_75d37_row5_col8\" class=\"data row5 col8\" >Top 7.9%</td>\n",
       "      <td id=\"T_75d37_row5_col9\" class=\"data row5 col9\" >Top 1.7%</td>\n",
       "      <td id=\"T_75d37_row5_col10\" class=\"data row5 col10\" >Top 99.9%</td>\n",
       "      <td id=\"T_75d37_row5_col11\" class=\"data row5 col11\" >Top 28.4%</td>\n",
       "    </tr>\n",
       "    <tr>\n",
       "      <th id=\"T_75d37_level0_row6\" class=\"row_heading level0 row6\" >Kew</th>\n",
       "      <td id=\"T_75d37_row6_col0\" class=\"data row6 col0\" >Top 3.8%</td>\n",
       "      <td id=\"T_75d37_row6_col1\" class=\"data row6 col1\" >Top 1.6%</td>\n",
       "      <td id=\"T_75d37_row6_col2\" class=\"data row6 col2\" >Top 98.1%</td>\n",
       "      <td id=\"T_75d37_row6_col3\" class=\"data row6 col3\" >Top 96.2%</td>\n",
       "      <td id=\"T_75d37_row6_col4\" class=\"data row6 col4\" >Top 1.7%</td>\n",
       "      <td id=\"T_75d37_row6_col5\" class=\"data row6 col5\" >Top 0.1%</td>\n",
       "      <td id=\"T_75d37_row6_col6\" class=\"data row6 col6\" >Top 99.9%</td>\n",
       "      <td id=\"T_75d37_row6_col7\" class=\"data row6 col7\" >Top 0.4%</td>\n",
       "      <td id=\"T_75d37_row6_col8\" class=\"data row6 col8\" >Top 4.5%</td>\n",
       "      <td id=\"T_75d37_row6_col9\" class=\"data row6 col9\" >Top 2.2%</td>\n",
       "      <td id=\"T_75d37_row6_col10\" class=\"data row6 col10\" >Top 5.1%</td>\n",
       "      <td id=\"T_75d37_row6_col11\" class=\"data row6 col11\" >Top 28.5%</td>\n",
       "    </tr>\n",
       "    <tr>\n",
       "      <th id=\"T_75d37_level0_row7\" class=\"row_heading level0 row7\" >Brunswick</th>\n",
       "      <td id=\"T_75d37_row7_col0\" class=\"data row7 col0\" >Top 1.0%</td>\n",
       "      <td id=\"T_75d37_row7_col1\" class=\"data row7 col1\" >Top 23.6%</td>\n",
       "      <td id=\"T_75d37_row7_col2\" class=\"data row7 col2\" >Top 83.9%</td>\n",
       "      <td id=\"T_75d37_row7_col3\" class=\"data row7 col3\" >Top 87.4%</td>\n",
       "      <td id=\"T_75d37_row7_col4\" class=\"data row7 col4\" >Top 7.1%</td>\n",
       "      <td id=\"T_75d37_row7_col5\" class=\"data row7 col5\" >Top 99.9%</td>\n",
       "      <td id=\"T_75d37_row7_col6\" class=\"data row7 col6\" >Top 0.8%</td>\n",
       "      <td id=\"T_75d37_row7_col7\" class=\"data row7 col7\" >Top 1.0%</td>\n",
       "      <td id=\"T_75d37_row7_col8\" class=\"data row7 col8\" >Top 4.7%</td>\n",
       "      <td id=\"T_75d37_row7_col9\" class=\"data row7 col9\" >Top 2.8%</td>\n",
       "      <td id=\"T_75d37_row7_col10\" class=\"data row7 col10\" >Top 5.1%</td>\n",
       "      <td id=\"T_75d37_row7_col11\" class=\"data row7 col11\" >Top 28.9%</td>\n",
       "    </tr>\n",
       "    <tr>\n",
       "      <th id=\"T_75d37_level0_row8\" class=\"row_heading level0 row8\" >Eltham</th>\n",
       "      <td id=\"T_75d37_row8_col0\" class=\"data row8 col0\" >Top 14.9%</td>\n",
       "      <td id=\"T_75d37_row8_col1\" class=\"data row8 col1\" >Top 3.3%</td>\n",
       "      <td id=\"T_75d37_row8_col2\" class=\"data row8 col2\" >Top 81.5%</td>\n",
       "      <td id=\"T_75d37_row8_col3\" class=\"data row8 col3\" >Top 82.0%</td>\n",
       "      <td id=\"T_75d37_row8_col4\" class=\"data row8 col4\" >Top 7.1%</td>\n",
       "      <td id=\"T_75d37_row8_col5\" class=\"data row8 col5\" >Top 3.8%</td>\n",
       "      <td id=\"T_75d37_row8_col6\" class=\"data row8 col6\" >Top 12.5%</td>\n",
       "      <td id=\"T_75d37_row8_col7\" class=\"data row8 col7\" >Top 99.9%</td>\n",
       "      <td id=\"T_75d37_row8_col8\" class=\"data row8 col8\" >Top 7.3%</td>\n",
       "      <td id=\"T_75d37_row8_col9\" class=\"data row8 col9\" >Top 8.1%</td>\n",
       "      <td id=\"T_75d37_row8_col10\" class=\"data row8 col10\" >Top 5.1%</td>\n",
       "      <td id=\"T_75d37_row8_col11\" class=\"data row8 col11\" >Top 29.6%</td>\n",
       "    </tr>\n",
       "    <tr>\n",
       "      <th id=\"T_75d37_level0_row9\" class=\"row_heading level0 row9\" >Belgrave</th>\n",
       "      <td id=\"T_75d37_row9_col0\" class=\"data row9 col0\" >Top 20.4%</td>\n",
       "      <td id=\"T_75d37_row9_col1\" class=\"data row9 col1\" >Top 21.8%</td>\n",
       "      <td id=\"T_75d37_row9_col2\" class=\"data row9 col2\" >Top 59.9%</td>\n",
       "      <td id=\"T_75d37_row9_col3\" class=\"data row9 col3\" >Top 74.7%</td>\n",
       "      <td id=\"T_75d37_row9_col4\" class=\"data row9 col4\" >Top 10.4%</td>\n",
       "      <td id=\"T_75d37_row9_col5\" class=\"data row9 col5\" >Top 3.8%</td>\n",
       "      <td id=\"T_75d37_row9_col6\" class=\"data row9 col6\" >Top 12.5%</td>\n",
       "      <td id=\"T_75d37_row9_col7\" class=\"data row9 col7\" >Top 99.9%</td>\n",
       "      <td id=\"T_75d37_row9_col8\" class=\"data row9 col8\" >Top 11.3%</td>\n",
       "      <td id=\"T_75d37_row9_col9\" class=\"data row9 col9\" >Top 12.0%</td>\n",
       "      <td id=\"T_75d37_row9_col10\" class=\"data row9 col10\" >Top 5.1%</td>\n",
       "      <td id=\"T_75d37_row9_col11\" class=\"data row9 col11\" >Top 30.2%</td>\n",
       "    </tr>\n",
       "  </tbody>\n",
       "</table>\n"
      ],
      "text/plain": [
       "<pandas.io.formats.style.Styler at 0x7f0e7af03dc0>"
      ]
     },
     "execution_count": 33,
     "metadata": {},
     "output_type": "execute_result"
    }
   ],
   "source": [
    "mean_cols = [\n",
    "    'Education', 'Income', 'Sold', 'Rent', 'Professionals',\n",
    "    #'Combined', 'Primary', 'Secondary',\n",
    "    'Schools', 'Train', 'Tram',\n",
    "    'Bus', 'Stations',\n",
    "    #'Shop', 'Theater', 'Park',\n",
    "    'Entertainment']\n",
    "\n",
    "pct_top10 = pct[['Suburb'] + mean_cols].copy()\n",
    "pct_top10['Mean'] = pct_top10[mean_cols].mean(axis=1)\n",
    "# pct_top10['median_score'] = pct_top10[mean_cols].quantile(0.5, axis=1)\n",
    "\n",
    "pct_top10 = pct_top10.nsmallest(10, 'Mean').set_index('Suburb') * 100\n",
    "pct_top10.style.background_gradient().format(\"Top {:.1f}%\")"
   ]
  },
  {
   "cell_type": "code",
   "execution_count": 148,
   "id": "alternative-coordinate",
   "metadata": {},
   "outputs": [],
   "source": [
    "pct_export = pct.copy().set_index('Suburb') * 100\n",
    "pct_export['Mean'] = pct_export.mean(axis=1)\n",
    "pct_export.columns = ['Uni/Tertiary Education', 'Income', 'Buy Price', 'Rent Price', 'Professionals', 'Combined Schools',\n",
    "       'Primary Schools', 'Secondary Schools', 'Total Schools', 'Trains', 'Trams', 'Buses', 'Total Stations',\n",
    "       'Shops', 'Theaters', 'Parks', 'Total Entertainments', 'Mean']\n",
    "pct_export.to_csv(\"../liveability_app/data.csv\")"
   ]
  },
  {
   "cell_type": "code",
   "execution_count": 147,
   "id": "future-congo",
   "metadata": {},
   "outputs": [
    {
     "data": {
      "text/plain": [
       "Index(['Education', 'Income', 'Sold', 'Rent', 'Professionals', 'Combined',\n",
       "       'Primary', 'Secondary', 'Schools', 'Train', 'Tram', 'Bus', 'Stations',\n",
       "       'Shop', 'Theater', 'Park', 'Entertainment', 'Mean'],\n",
       "      dtype='object')"
      ]
     },
     "execution_count": 147,
     "metadata": {},
     "output_type": "execute_result"
    }
   ],
   "source": [
    "pct_export.columns"
   ]
  },
  {
   "cell_type": "code",
   "execution_count": 135,
   "id": "married-preliminary",
   "metadata": {},
   "outputs": [],
   "source": [
    "import plotly.express as px"
   ]
  },
  {
   "cell_type": "code",
   "execution_count": 140,
   "id": "disciplinary-monitoring",
   "metadata": {},
   "outputs": [
    {
     "data": {
      "text/plain": [
       "<function plotly.express._imshow.imshow(img, zmin=None, zmax=None, origin=None, labels={}, x=None, y=None, animation_frame=None, facet_col=None, facet_col_wrap=None, facet_col_spacing=None, facet_row_spacing=None, color_continuous_scale=None, color_continuous_midpoint=None, range_color=None, title=None, template=None, width=None, height=None, aspect=None, contrast_rescaling=None, binary_string=None, binary_backend='auto', binary_compression_level=4, binary_format='png', text_auto=False)>"
      ]
     },
     "execution_count": 140,
     "metadata": {},
     "output_type": "execute_result"
    }
   ],
   "source": [
    "px.imshow"
   ]
  },
  {
   "cell_type": "code",
   "execution_count": 145,
   "id": "relevant-spider",
   "metadata": {},
   "outputs": [
    {
     "data": {
      "application/vnd.plotly.v1+json": {
       "config": {
        "plotlyServerURL": "https://plot.ly"
       },
       "data": [
        {
         "coloraxis": "coloraxis",
         "hovertemplate": "x: %{x}<br>Suburb: %{y}<br>color: %{z}<extra></extra>",
         "name": "0",
         "type": "heatmap",
         "x": [
          "Education",
          "Income",
          "Sold",
          "Rent",
          "Professionals",
          "Combined",
          "Primary",
          "Secondary",
          "Schools",
          "Train",
          "Tram",
          "Bus",
          "Stations",
          "Shop",
          "Theater",
          "Park",
          "Entertainment",
          "Mean"
         ],
         "xaxis": "x",
         "y": [
          "Mount Buller",
          "Falls Creek",
          "Flinders",
          "Sawmill Settlement",
          "Portsea"
         ],
         "yaxis": "y",
         "z": [
          [
           99.93,
           50.22,
           49.97,
           99.91,
           99.93,
           99.93,
           99.93,
           99.93,
           99.93,
           99.93,
           99.93,
           99.93,
           99.93,
           99.93,
           99.93,
           99.93,
           99.93,
           94.07
          ],
          [
           30.44,
           98.66,
           49.97,
           99.82,
           3.75,
           99.93,
           99.93,
           99.93,
           99.93,
           99.93,
           99.93,
           99.93,
           99.93,
           99.93,
           99.93,
           99.93,
           99.93,
           87.16
          ],
          [
           99.93,
           50.22,
           99.77,
           99.73,
           99.93,
           99.93,
           99.93,
           99.93,
           99.93,
           99.93,
           99.93,
           24.88,
           25.71,
           99.93,
           99.93,
           99.93,
           99.93,
           88.2
          ],
          [
           99.93,
           50.22,
           30.16,
           99.64,
           99.93,
           99.93,
           99.93,
           99.93,
           99.93,
           99.93,
           99.93,
           99.93,
           99.93,
           99.93,
           99.93,
           99.93,
           99.93,
           92.88
          ],
          [
           99.93,
           50.22,
           99.92,
           99.54,
           99.93,
           99.93,
           99.93,
           99.93,
           99.93,
           99.93,
           99.93,
           16.4,
           17.3,
           99.93,
           99.93,
           0.56,
           5.14,
           75.79
          ]
         ]
        }
       ],
       "layout": {
        "coloraxis": {
         "colorscale": [
          [
           0,
           "#0d0887"
          ],
          [
           0.1111111111111111,
           "#46039f"
          ],
          [
           0.2222222222222222,
           "#7201a8"
          ],
          [
           0.3333333333333333,
           "#9c179e"
          ],
          [
           0.4444444444444444,
           "#bd3786"
          ],
          [
           0.5555555555555556,
           "#d8576b"
          ],
          [
           0.6666666666666666,
           "#ed7953"
          ],
          [
           0.7777777777777778,
           "#fb9f3a"
          ],
          [
           0.8888888888888888,
           "#fdca26"
          ],
          [
           1,
           "#f0f921"
          ]
         ]
        },
        "margin": {
         "t": 60
        },
        "template": {
         "data": {
          "bar": [
           {
            "error_x": {
             "color": "#2a3f5f"
            },
            "error_y": {
             "color": "#2a3f5f"
            },
            "marker": {
             "line": {
              "color": "#E5ECF6",
              "width": 0.5
             },
             "pattern": {
              "fillmode": "overlay",
              "size": 10,
              "solidity": 0.2
             }
            },
            "type": "bar"
           }
          ],
          "barpolar": [
           {
            "marker": {
             "line": {
              "color": "#E5ECF6",
              "width": 0.5
             },
             "pattern": {
              "fillmode": "overlay",
              "size": 10,
              "solidity": 0.2
             }
            },
            "type": "barpolar"
           }
          ],
          "carpet": [
           {
            "aaxis": {
             "endlinecolor": "#2a3f5f",
             "gridcolor": "white",
             "linecolor": "white",
             "minorgridcolor": "white",
             "startlinecolor": "#2a3f5f"
            },
            "baxis": {
             "endlinecolor": "#2a3f5f",
             "gridcolor": "white",
             "linecolor": "white",
             "minorgridcolor": "white",
             "startlinecolor": "#2a3f5f"
            },
            "type": "carpet"
           }
          ],
          "choropleth": [
           {
            "colorbar": {
             "outlinewidth": 0,
             "ticks": ""
            },
            "type": "choropleth"
           }
          ],
          "contour": [
           {
            "colorbar": {
             "outlinewidth": 0,
             "ticks": ""
            },
            "colorscale": [
             [
              0,
              "#0d0887"
             ],
             [
              0.1111111111111111,
              "#46039f"
             ],
             [
              0.2222222222222222,
              "#7201a8"
             ],
             [
              0.3333333333333333,
              "#9c179e"
             ],
             [
              0.4444444444444444,
              "#bd3786"
             ],
             [
              0.5555555555555556,
              "#d8576b"
             ],
             [
              0.6666666666666666,
              "#ed7953"
             ],
             [
              0.7777777777777778,
              "#fb9f3a"
             ],
             [
              0.8888888888888888,
              "#fdca26"
             ],
             [
              1,
              "#f0f921"
             ]
            ],
            "type": "contour"
           }
          ],
          "contourcarpet": [
           {
            "colorbar": {
             "outlinewidth": 0,
             "ticks": ""
            },
            "type": "contourcarpet"
           }
          ],
          "heatmap": [
           {
            "colorbar": {
             "outlinewidth": 0,
             "ticks": ""
            },
            "colorscale": [
             [
              0,
              "#0d0887"
             ],
             [
              0.1111111111111111,
              "#46039f"
             ],
             [
              0.2222222222222222,
              "#7201a8"
             ],
             [
              0.3333333333333333,
              "#9c179e"
             ],
             [
              0.4444444444444444,
              "#bd3786"
             ],
             [
              0.5555555555555556,
              "#d8576b"
             ],
             [
              0.6666666666666666,
              "#ed7953"
             ],
             [
              0.7777777777777778,
              "#fb9f3a"
             ],
             [
              0.8888888888888888,
              "#fdca26"
             ],
             [
              1,
              "#f0f921"
             ]
            ],
            "type": "heatmap"
           }
          ],
          "heatmapgl": [
           {
            "colorbar": {
             "outlinewidth": 0,
             "ticks": ""
            },
            "colorscale": [
             [
              0,
              "#0d0887"
             ],
             [
              0.1111111111111111,
              "#46039f"
             ],
             [
              0.2222222222222222,
              "#7201a8"
             ],
             [
              0.3333333333333333,
              "#9c179e"
             ],
             [
              0.4444444444444444,
              "#bd3786"
             ],
             [
              0.5555555555555556,
              "#d8576b"
             ],
             [
              0.6666666666666666,
              "#ed7953"
             ],
             [
              0.7777777777777778,
              "#fb9f3a"
             ],
             [
              0.8888888888888888,
              "#fdca26"
             ],
             [
              1,
              "#f0f921"
             ]
            ],
            "type": "heatmapgl"
           }
          ],
          "histogram": [
           {
            "marker": {
             "pattern": {
              "fillmode": "overlay",
              "size": 10,
              "solidity": 0.2
             }
            },
            "type": "histogram"
           }
          ],
          "histogram2d": [
           {
            "colorbar": {
             "outlinewidth": 0,
             "ticks": ""
            },
            "colorscale": [
             [
              0,
              "#0d0887"
             ],
             [
              0.1111111111111111,
              "#46039f"
             ],
             [
              0.2222222222222222,
              "#7201a8"
             ],
             [
              0.3333333333333333,
              "#9c179e"
             ],
             [
              0.4444444444444444,
              "#bd3786"
             ],
             [
              0.5555555555555556,
              "#d8576b"
             ],
             [
              0.6666666666666666,
              "#ed7953"
             ],
             [
              0.7777777777777778,
              "#fb9f3a"
             ],
             [
              0.8888888888888888,
              "#fdca26"
             ],
             [
              1,
              "#f0f921"
             ]
            ],
            "type": "histogram2d"
           }
          ],
          "histogram2dcontour": [
           {
            "colorbar": {
             "outlinewidth": 0,
             "ticks": ""
            },
            "colorscale": [
             [
              0,
              "#0d0887"
             ],
             [
              0.1111111111111111,
              "#46039f"
             ],
             [
              0.2222222222222222,
              "#7201a8"
             ],
             [
              0.3333333333333333,
              "#9c179e"
             ],
             [
              0.4444444444444444,
              "#bd3786"
             ],
             [
              0.5555555555555556,
              "#d8576b"
             ],
             [
              0.6666666666666666,
              "#ed7953"
             ],
             [
              0.7777777777777778,
              "#fb9f3a"
             ],
             [
              0.8888888888888888,
              "#fdca26"
             ],
             [
              1,
              "#f0f921"
             ]
            ],
            "type": "histogram2dcontour"
           }
          ],
          "mesh3d": [
           {
            "colorbar": {
             "outlinewidth": 0,
             "ticks": ""
            },
            "type": "mesh3d"
           }
          ],
          "parcoords": [
           {
            "line": {
             "colorbar": {
              "outlinewidth": 0,
              "ticks": ""
             }
            },
            "type": "parcoords"
           }
          ],
          "pie": [
           {
            "automargin": true,
            "type": "pie"
           }
          ],
          "scatter": [
           {
            "marker": {
             "colorbar": {
              "outlinewidth": 0,
              "ticks": ""
             }
            },
            "type": "scatter"
           }
          ],
          "scatter3d": [
           {
            "line": {
             "colorbar": {
              "outlinewidth": 0,
              "ticks": ""
             }
            },
            "marker": {
             "colorbar": {
              "outlinewidth": 0,
              "ticks": ""
             }
            },
            "type": "scatter3d"
           }
          ],
          "scattercarpet": [
           {
            "marker": {
             "colorbar": {
              "outlinewidth": 0,
              "ticks": ""
             }
            },
            "type": "scattercarpet"
           }
          ],
          "scattergeo": [
           {
            "marker": {
             "colorbar": {
              "outlinewidth": 0,
              "ticks": ""
             }
            },
            "type": "scattergeo"
           }
          ],
          "scattergl": [
           {
            "marker": {
             "colorbar": {
              "outlinewidth": 0,
              "ticks": ""
             }
            },
            "type": "scattergl"
           }
          ],
          "scattermapbox": [
           {
            "marker": {
             "colorbar": {
              "outlinewidth": 0,
              "ticks": ""
             }
            },
            "type": "scattermapbox"
           }
          ],
          "scatterpolar": [
           {
            "marker": {
             "colorbar": {
              "outlinewidth": 0,
              "ticks": ""
             }
            },
            "type": "scatterpolar"
           }
          ],
          "scatterpolargl": [
           {
            "marker": {
             "colorbar": {
              "outlinewidth": 0,
              "ticks": ""
             }
            },
            "type": "scatterpolargl"
           }
          ],
          "scatterternary": [
           {
            "marker": {
             "colorbar": {
              "outlinewidth": 0,
              "ticks": ""
             }
            },
            "type": "scatterternary"
           }
          ],
          "surface": [
           {
            "colorbar": {
             "outlinewidth": 0,
             "ticks": ""
            },
            "colorscale": [
             [
              0,
              "#0d0887"
             ],
             [
              0.1111111111111111,
              "#46039f"
             ],
             [
              0.2222222222222222,
              "#7201a8"
             ],
             [
              0.3333333333333333,
              "#9c179e"
             ],
             [
              0.4444444444444444,
              "#bd3786"
             ],
             [
              0.5555555555555556,
              "#d8576b"
             ],
             [
              0.6666666666666666,
              "#ed7953"
             ],
             [
              0.7777777777777778,
              "#fb9f3a"
             ],
             [
              0.8888888888888888,
              "#fdca26"
             ],
             [
              1,
              "#f0f921"
             ]
            ],
            "type": "surface"
           }
          ],
          "table": [
           {
            "cells": {
             "fill": {
              "color": "#EBF0F8"
             },
             "line": {
              "color": "white"
             }
            },
            "header": {
             "fill": {
              "color": "#C8D4E3"
             },
             "line": {
              "color": "white"
             }
            },
            "type": "table"
           }
          ]
         },
         "layout": {
          "annotationdefaults": {
           "arrowcolor": "#2a3f5f",
           "arrowhead": 0,
           "arrowwidth": 1
          },
          "autotypenumbers": "strict",
          "coloraxis": {
           "colorbar": {
            "outlinewidth": 0,
            "ticks": ""
           }
          },
          "colorscale": {
           "diverging": [
            [
             0,
             "#8e0152"
            ],
            [
             0.1,
             "#c51b7d"
            ],
            [
             0.2,
             "#de77ae"
            ],
            [
             0.3,
             "#f1b6da"
            ],
            [
             0.4,
             "#fde0ef"
            ],
            [
             0.5,
             "#f7f7f7"
            ],
            [
             0.6,
             "#e6f5d0"
            ],
            [
             0.7,
             "#b8e186"
            ],
            [
             0.8,
             "#7fbc41"
            ],
            [
             0.9,
             "#4d9221"
            ],
            [
             1,
             "#276419"
            ]
           ],
           "sequential": [
            [
             0,
             "#0d0887"
            ],
            [
             0.1111111111111111,
             "#46039f"
            ],
            [
             0.2222222222222222,
             "#7201a8"
            ],
            [
             0.3333333333333333,
             "#9c179e"
            ],
            [
             0.4444444444444444,
             "#bd3786"
            ],
            [
             0.5555555555555556,
             "#d8576b"
            ],
            [
             0.6666666666666666,
             "#ed7953"
            ],
            [
             0.7777777777777778,
             "#fb9f3a"
            ],
            [
             0.8888888888888888,
             "#fdca26"
            ],
            [
             1,
             "#f0f921"
            ]
           ],
           "sequentialminus": [
            [
             0,
             "#0d0887"
            ],
            [
             0.1111111111111111,
             "#46039f"
            ],
            [
             0.2222222222222222,
             "#7201a8"
            ],
            [
             0.3333333333333333,
             "#9c179e"
            ],
            [
             0.4444444444444444,
             "#bd3786"
            ],
            [
             0.5555555555555556,
             "#d8576b"
            ],
            [
             0.6666666666666666,
             "#ed7953"
            ],
            [
             0.7777777777777778,
             "#fb9f3a"
            ],
            [
             0.8888888888888888,
             "#fdca26"
            ],
            [
             1,
             "#f0f921"
            ]
           ]
          },
          "colorway": [
           "#636efa",
           "#EF553B",
           "#00cc96",
           "#ab63fa",
           "#FFA15A",
           "#19d3f3",
           "#FF6692",
           "#B6E880",
           "#FF97FF",
           "#FECB52"
          ],
          "font": {
           "color": "#2a3f5f"
          },
          "geo": {
           "bgcolor": "white",
           "lakecolor": "white",
           "landcolor": "#E5ECF6",
           "showlakes": true,
           "showland": true,
           "subunitcolor": "white"
          },
          "hoverlabel": {
           "align": "left"
          },
          "hovermode": "closest",
          "mapbox": {
           "style": "light"
          },
          "paper_bgcolor": "white",
          "plot_bgcolor": "#E5ECF6",
          "polar": {
           "angularaxis": {
            "gridcolor": "white",
            "linecolor": "white",
            "ticks": ""
           },
           "bgcolor": "#E5ECF6",
           "radialaxis": {
            "gridcolor": "white",
            "linecolor": "white",
            "ticks": ""
           }
          },
          "scene": {
           "xaxis": {
            "backgroundcolor": "#E5ECF6",
            "gridcolor": "white",
            "gridwidth": 2,
            "linecolor": "white",
            "showbackground": true,
            "ticks": "",
            "zerolinecolor": "white"
           },
           "yaxis": {
            "backgroundcolor": "#E5ECF6",
            "gridcolor": "white",
            "gridwidth": 2,
            "linecolor": "white",
            "showbackground": true,
            "ticks": "",
            "zerolinecolor": "white"
           },
           "zaxis": {
            "backgroundcolor": "#E5ECF6",
            "gridcolor": "white",
            "gridwidth": 2,
            "linecolor": "white",
            "showbackground": true,
            "ticks": "",
            "zerolinecolor": "white"
           }
          },
          "shapedefaults": {
           "line": {
            "color": "#2a3f5f"
           }
          },
          "ternary": {
           "aaxis": {
            "gridcolor": "white",
            "linecolor": "white",
            "ticks": ""
           },
           "baxis": {
            "gridcolor": "white",
            "linecolor": "white",
            "ticks": ""
           },
           "bgcolor": "#E5ECF6",
           "caxis": {
            "gridcolor": "white",
            "linecolor": "white",
            "ticks": ""
           }
          },
          "title": {
           "x": 0.05
          },
          "xaxis": {
           "automargin": true,
           "gridcolor": "white",
           "linecolor": "white",
           "ticks": "",
           "title": {
            "standoff": 15
           },
           "zerolinecolor": "white",
           "zerolinewidth": 2
          },
          "yaxis": {
           "automargin": true,
           "gridcolor": "white",
           "linecolor": "white",
           "ticks": "",
           "title": {
            "standoff": 15
           },
           "zerolinecolor": "white",
           "zerolinewidth": 2
          }
         }
        },
        "xaxis": {
         "anchor": "y",
         "constrain": "domain",
         "domain": [
          0,
          1
         ],
         "scaleanchor": "y"
        },
        "yaxis": {
         "anchor": "x",
         "autorange": "reversed",
         "constrain": "domain",
         "domain": [
          0,
          1
         ],
         "title": {
          "text": "Suburb"
         }
        }
       }
      },
      "text/html": [
       "<div>                            <div id=\"cc562ca9-10ae-4185-9d5b-631273c1b06f\" class=\"plotly-graph-div\" style=\"height:525px; width:100%;\"></div>            <script type=\"text/javascript\">                require([\"plotly\"], function(Plotly) {                    window.PLOTLYENV=window.PLOTLYENV || {};                                    if (document.getElementById(\"cc562ca9-10ae-4185-9d5b-631273c1b06f\")) {                    Plotly.newPlot(                        \"cc562ca9-10ae-4185-9d5b-631273c1b06f\",                        [{\"coloraxis\":\"coloraxis\",\"name\":\"0\",\"x\":[\"Education\",\"Income\",\"Sold\",\"Rent\",\"Professionals\",\"Combined\",\"Primary\",\"Secondary\",\"Schools\",\"Train\",\"Tram\",\"Bus\",\"Stations\",\"Shop\",\"Theater\",\"Park\",\"Entertainment\",\"Mean\"],\"y\":[\"Mount Buller\",\"Falls Creek\",\"Flinders\",\"Sawmill Settlement\",\"Portsea\"],\"z\":[[99.93,50.22,49.97,99.91,99.93,99.93,99.93,99.93,99.93,99.93,99.93,99.93,99.93,99.93,99.93,99.93,99.93,94.07],[30.44,98.66,49.97,99.82,3.75,99.93,99.93,99.93,99.93,99.93,99.93,99.93,99.93,99.93,99.93,99.93,99.93,87.16],[99.93,50.22,99.77,99.73,99.93,99.93,99.93,99.93,99.93,99.93,99.93,24.88,25.71,99.93,99.93,99.93,99.93,88.2],[99.93,50.22,30.16,99.64,99.93,99.93,99.93,99.93,99.93,99.93,99.93,99.93,99.93,99.93,99.93,99.93,99.93,92.88],[99.93,50.22,99.92,99.54,99.93,99.93,99.93,99.93,99.93,99.93,99.93,16.4,17.3,99.93,99.93,0.56,5.14,75.79]],\"type\":\"heatmap\",\"xaxis\":\"x\",\"yaxis\":\"y\",\"hovertemplate\":\"x: %{x}<br>Suburb: %{y}<br>color: %{z}<extra></extra>\"}],                        {\"template\":{\"data\":{\"bar\":[{\"error_x\":{\"color\":\"#2a3f5f\"},\"error_y\":{\"color\":\"#2a3f5f\"},\"marker\":{\"line\":{\"color\":\"#E5ECF6\",\"width\":0.5},\"pattern\":{\"fillmode\":\"overlay\",\"size\":10,\"solidity\":0.2}},\"type\":\"bar\"}],\"barpolar\":[{\"marker\":{\"line\":{\"color\":\"#E5ECF6\",\"width\":0.5},\"pattern\":{\"fillmode\":\"overlay\",\"size\":10,\"solidity\":0.2}},\"type\":\"barpolar\"}],\"carpet\":[{\"aaxis\":{\"endlinecolor\":\"#2a3f5f\",\"gridcolor\":\"white\",\"linecolor\":\"white\",\"minorgridcolor\":\"white\",\"startlinecolor\":\"#2a3f5f\"},\"baxis\":{\"endlinecolor\":\"#2a3f5f\",\"gridcolor\":\"white\",\"linecolor\":\"white\",\"minorgridcolor\":\"white\",\"startlinecolor\":\"#2a3f5f\"},\"type\":\"carpet\"}],\"choropleth\":[{\"colorbar\":{\"outlinewidth\":0,\"ticks\":\"\"},\"type\":\"choropleth\"}],\"contour\":[{\"colorbar\":{\"outlinewidth\":0,\"ticks\":\"\"},\"colorscale\":[[0.0,\"#0d0887\"],[0.1111111111111111,\"#46039f\"],[0.2222222222222222,\"#7201a8\"],[0.3333333333333333,\"#9c179e\"],[0.4444444444444444,\"#bd3786\"],[0.5555555555555556,\"#d8576b\"],[0.6666666666666666,\"#ed7953\"],[0.7777777777777778,\"#fb9f3a\"],[0.8888888888888888,\"#fdca26\"],[1.0,\"#f0f921\"]],\"type\":\"contour\"}],\"contourcarpet\":[{\"colorbar\":{\"outlinewidth\":0,\"ticks\":\"\"},\"type\":\"contourcarpet\"}],\"heatmap\":[{\"colorbar\":{\"outlinewidth\":0,\"ticks\":\"\"},\"colorscale\":[[0.0,\"#0d0887\"],[0.1111111111111111,\"#46039f\"],[0.2222222222222222,\"#7201a8\"],[0.3333333333333333,\"#9c179e\"],[0.4444444444444444,\"#bd3786\"],[0.5555555555555556,\"#d8576b\"],[0.6666666666666666,\"#ed7953\"],[0.7777777777777778,\"#fb9f3a\"],[0.8888888888888888,\"#fdca26\"],[1.0,\"#f0f921\"]],\"type\":\"heatmap\"}],\"heatmapgl\":[{\"colorbar\":{\"outlinewidth\":0,\"ticks\":\"\"},\"colorscale\":[[0.0,\"#0d0887\"],[0.1111111111111111,\"#46039f\"],[0.2222222222222222,\"#7201a8\"],[0.3333333333333333,\"#9c179e\"],[0.4444444444444444,\"#bd3786\"],[0.5555555555555556,\"#d8576b\"],[0.6666666666666666,\"#ed7953\"],[0.7777777777777778,\"#fb9f3a\"],[0.8888888888888888,\"#fdca26\"],[1.0,\"#f0f921\"]],\"type\":\"heatmapgl\"}],\"histogram\":[{\"marker\":{\"pattern\":{\"fillmode\":\"overlay\",\"size\":10,\"solidity\":0.2}},\"type\":\"histogram\"}],\"histogram2d\":[{\"colorbar\":{\"outlinewidth\":0,\"ticks\":\"\"},\"colorscale\":[[0.0,\"#0d0887\"],[0.1111111111111111,\"#46039f\"],[0.2222222222222222,\"#7201a8\"],[0.3333333333333333,\"#9c179e\"],[0.4444444444444444,\"#bd3786\"],[0.5555555555555556,\"#d8576b\"],[0.6666666666666666,\"#ed7953\"],[0.7777777777777778,\"#fb9f3a\"],[0.8888888888888888,\"#fdca26\"],[1.0,\"#f0f921\"]],\"type\":\"histogram2d\"}],\"histogram2dcontour\":[{\"colorbar\":{\"outlinewidth\":0,\"ticks\":\"\"},\"colorscale\":[[0.0,\"#0d0887\"],[0.1111111111111111,\"#46039f\"],[0.2222222222222222,\"#7201a8\"],[0.3333333333333333,\"#9c179e\"],[0.4444444444444444,\"#bd3786\"],[0.5555555555555556,\"#d8576b\"],[0.6666666666666666,\"#ed7953\"],[0.7777777777777778,\"#fb9f3a\"],[0.8888888888888888,\"#fdca26\"],[1.0,\"#f0f921\"]],\"type\":\"histogram2dcontour\"}],\"mesh3d\":[{\"colorbar\":{\"outlinewidth\":0,\"ticks\":\"\"},\"type\":\"mesh3d\"}],\"parcoords\":[{\"line\":{\"colorbar\":{\"outlinewidth\":0,\"ticks\":\"\"}},\"type\":\"parcoords\"}],\"pie\":[{\"automargin\":true,\"type\":\"pie\"}],\"scatter\":[{\"marker\":{\"colorbar\":{\"outlinewidth\":0,\"ticks\":\"\"}},\"type\":\"scatter\"}],\"scatter3d\":[{\"line\":{\"colorbar\":{\"outlinewidth\":0,\"ticks\":\"\"}},\"marker\":{\"colorbar\":{\"outlinewidth\":0,\"ticks\":\"\"}},\"type\":\"scatter3d\"}],\"scattercarpet\":[{\"marker\":{\"colorbar\":{\"outlinewidth\":0,\"ticks\":\"\"}},\"type\":\"scattercarpet\"}],\"scattergeo\":[{\"marker\":{\"colorbar\":{\"outlinewidth\":0,\"ticks\":\"\"}},\"type\":\"scattergeo\"}],\"scattergl\":[{\"marker\":{\"colorbar\":{\"outlinewidth\":0,\"ticks\":\"\"}},\"type\":\"scattergl\"}],\"scattermapbox\":[{\"marker\":{\"colorbar\":{\"outlinewidth\":0,\"ticks\":\"\"}},\"type\":\"scattermapbox\"}],\"scatterpolar\":[{\"marker\":{\"colorbar\":{\"outlinewidth\":0,\"ticks\":\"\"}},\"type\":\"scatterpolar\"}],\"scatterpolargl\":[{\"marker\":{\"colorbar\":{\"outlinewidth\":0,\"ticks\":\"\"}},\"type\":\"scatterpolargl\"}],\"scatterternary\":[{\"marker\":{\"colorbar\":{\"outlinewidth\":0,\"ticks\":\"\"}},\"type\":\"scatterternary\"}],\"surface\":[{\"colorbar\":{\"outlinewidth\":0,\"ticks\":\"\"},\"colorscale\":[[0.0,\"#0d0887\"],[0.1111111111111111,\"#46039f\"],[0.2222222222222222,\"#7201a8\"],[0.3333333333333333,\"#9c179e\"],[0.4444444444444444,\"#bd3786\"],[0.5555555555555556,\"#d8576b\"],[0.6666666666666666,\"#ed7953\"],[0.7777777777777778,\"#fb9f3a\"],[0.8888888888888888,\"#fdca26\"],[1.0,\"#f0f921\"]],\"type\":\"surface\"}],\"table\":[{\"cells\":{\"fill\":{\"color\":\"#EBF0F8\"},\"line\":{\"color\":\"white\"}},\"header\":{\"fill\":{\"color\":\"#C8D4E3\"},\"line\":{\"color\":\"white\"}},\"type\":\"table\"}]},\"layout\":{\"annotationdefaults\":{\"arrowcolor\":\"#2a3f5f\",\"arrowhead\":0,\"arrowwidth\":1},\"autotypenumbers\":\"strict\",\"coloraxis\":{\"colorbar\":{\"outlinewidth\":0,\"ticks\":\"\"}},\"colorscale\":{\"diverging\":[[0,\"#8e0152\"],[0.1,\"#c51b7d\"],[0.2,\"#de77ae\"],[0.3,\"#f1b6da\"],[0.4,\"#fde0ef\"],[0.5,\"#f7f7f7\"],[0.6,\"#e6f5d0\"],[0.7,\"#b8e186\"],[0.8,\"#7fbc41\"],[0.9,\"#4d9221\"],[1,\"#276419\"]],\"sequential\":[[0.0,\"#0d0887\"],[0.1111111111111111,\"#46039f\"],[0.2222222222222222,\"#7201a8\"],[0.3333333333333333,\"#9c179e\"],[0.4444444444444444,\"#bd3786\"],[0.5555555555555556,\"#d8576b\"],[0.6666666666666666,\"#ed7953\"],[0.7777777777777778,\"#fb9f3a\"],[0.8888888888888888,\"#fdca26\"],[1.0,\"#f0f921\"]],\"sequentialminus\":[[0.0,\"#0d0887\"],[0.1111111111111111,\"#46039f\"],[0.2222222222222222,\"#7201a8\"],[0.3333333333333333,\"#9c179e\"],[0.4444444444444444,\"#bd3786\"],[0.5555555555555556,\"#d8576b\"],[0.6666666666666666,\"#ed7953\"],[0.7777777777777778,\"#fb9f3a\"],[0.8888888888888888,\"#fdca26\"],[1.0,\"#f0f921\"]]},\"colorway\":[\"#636efa\",\"#EF553B\",\"#00cc96\",\"#ab63fa\",\"#FFA15A\",\"#19d3f3\",\"#FF6692\",\"#B6E880\",\"#FF97FF\",\"#FECB52\"],\"font\":{\"color\":\"#2a3f5f\"},\"geo\":{\"bgcolor\":\"white\",\"lakecolor\":\"white\",\"landcolor\":\"#E5ECF6\",\"showlakes\":true,\"showland\":true,\"subunitcolor\":\"white\"},\"hoverlabel\":{\"align\":\"left\"},\"hovermode\":\"closest\",\"mapbox\":{\"style\":\"light\"},\"paper_bgcolor\":\"white\",\"plot_bgcolor\":\"#E5ECF6\",\"polar\":{\"angularaxis\":{\"gridcolor\":\"white\",\"linecolor\":\"white\",\"ticks\":\"\"},\"bgcolor\":\"#E5ECF6\",\"radialaxis\":{\"gridcolor\":\"white\",\"linecolor\":\"white\",\"ticks\":\"\"}},\"scene\":{\"xaxis\":{\"backgroundcolor\":\"#E5ECF6\",\"gridcolor\":\"white\",\"gridwidth\":2,\"linecolor\":\"white\",\"showbackground\":true,\"ticks\":\"\",\"zerolinecolor\":\"white\"},\"yaxis\":{\"backgroundcolor\":\"#E5ECF6\",\"gridcolor\":\"white\",\"gridwidth\":2,\"linecolor\":\"white\",\"showbackground\":true,\"ticks\":\"\",\"zerolinecolor\":\"white\"},\"zaxis\":{\"backgroundcolor\":\"#E5ECF6\",\"gridcolor\":\"white\",\"gridwidth\":2,\"linecolor\":\"white\",\"showbackground\":true,\"ticks\":\"\",\"zerolinecolor\":\"white\"}},\"shapedefaults\":{\"line\":{\"color\":\"#2a3f5f\"}},\"ternary\":{\"aaxis\":{\"gridcolor\":\"white\",\"linecolor\":\"white\",\"ticks\":\"\"},\"baxis\":{\"gridcolor\":\"white\",\"linecolor\":\"white\",\"ticks\":\"\"},\"bgcolor\":\"#E5ECF6\",\"caxis\":{\"gridcolor\":\"white\",\"linecolor\":\"white\",\"ticks\":\"\"}},\"title\":{\"x\":0.05},\"xaxis\":{\"automargin\":true,\"gridcolor\":\"white\",\"linecolor\":\"white\",\"ticks\":\"\",\"title\":{\"standoff\":15},\"zerolinecolor\":\"white\",\"zerolinewidth\":2},\"yaxis\":{\"automargin\":true,\"gridcolor\":\"white\",\"linecolor\":\"white\",\"ticks\":\"\",\"title\":{\"standoff\":15},\"zerolinecolor\":\"white\",\"zerolinewidth\":2}}},\"xaxis\":{\"anchor\":\"y\",\"domain\":[0.0,1.0],\"scaleanchor\":\"y\",\"constrain\":\"domain\"},\"yaxis\":{\"anchor\":\"x\",\"domain\":[0.0,1.0],\"autorange\":\"reversed\",\"constrain\":\"domain\",\"title\":{\"text\":\"Suburb\"}},\"coloraxis\":{\"colorscale\":[[0.0,\"#0d0887\"],[0.1111111111111111,\"#46039f\"],[0.2222222222222222,\"#7201a8\"],[0.3333333333333333,\"#9c179e\"],[0.4444444444444444,\"#bd3786\"],[0.5555555555555556,\"#d8576b\"],[0.6666666666666666,\"#ed7953\"],[0.7777777777777778,\"#fb9f3a\"],[0.8888888888888888,\"#fdca26\"],[1.0,\"#f0f921\"]]},\"margin\":{\"t\":60}},                        {\"responsive\": true}                    ).then(function(){\n",
       "                            \n",
       "var gd = document.getElementById('cc562ca9-10ae-4185-9d5b-631273c1b06f');\n",
       "var x = new MutationObserver(function (mutations, observer) {{\n",
       "        var display = window.getComputedStyle(gd).display;\n",
       "        if (!display || display === 'none') {{\n",
       "            console.log([gd, 'removed!']);\n",
       "            Plotly.purge(gd);\n",
       "            observer.disconnect();\n",
       "        }}\n",
       "}});\n",
       "\n",
       "// Listen for the removal of the full notebook cells\n",
       "var notebookContainer = gd.closest('#notebook-container');\n",
       "if (notebookContainer) {{\n",
       "    x.observe(notebookContainer, {childList: true});\n",
       "}}\n",
       "\n",
       "// Listen for the clearing of the current output cell\n",
       "var outputEl = gd.closest('.output');\n",
       "if (outputEl) {{\n",
       "    x.observe(outputEl, {childList: true});\n",
       "}}\n",
       "\n",
       "                        })                };                });            </script>        </div>"
      ]
     },
     "metadata": {},
     "output_type": "display_data"
    }
   ],
   "source": [
    "px.imshow(pct_export.head(5).round(2))#, text_auto=True)"
   ]
  },
  {
   "cell_type": "markdown",
   "id": "acceptable-provider",
   "metadata": {},
   "source": [
    "# Archived"
   ]
  },
  {
   "cell_type": "code",
   "execution_count": 35,
   "id": "copyrighted-kernel",
   "metadata": {},
   "outputs": [
    {
     "data": {
      "text/html": [
       "<div>\n",
       "<style scoped>\n",
       "    .dataframe tbody tr th:only-of-type {\n",
       "        vertical-align: middle;\n",
       "    }\n",
       "\n",
       "    .dataframe tbody tr th {\n",
       "        vertical-align: top;\n",
       "    }\n",
       "\n",
       "    .dataframe thead th {\n",
       "        text-align: right;\n",
       "    }\n",
       "</style>\n",
       "<table border=\"1\" class=\"dataframe\">\n",
       "  <thead>\n",
       "    <tr style=\"text-align: right;\">\n",
       "      <th></th>\n",
       "      <th>Suburb</th>\n",
       "      <th>education_rank</th>\n",
       "      <th>income_rank</th>\n",
       "      <th>occupation_rank</th>\n",
       "      <th>school_rank_min</th>\n",
       "      <th>school_rank_mean</th>\n",
       "      <th>school_rank_max</th>\n",
       "      <th>schools_Combined_rank</th>\n",
       "      <th>schools_Primary_rank</th>\n",
       "      <th>schools_Secondary_rank</th>\n",
       "      <th>...</th>\n",
       "      <th>Bus_rank</th>\n",
       "      <th>Total Stations_rank</th>\n",
       "      <th>rent_rank_rank</th>\n",
       "      <th>sold_rank_rank</th>\n",
       "      <th>shop_rank</th>\n",
       "      <th>theater_rank</th>\n",
       "      <th>park_rank</th>\n",
       "      <th>entertainment_rank</th>\n",
       "      <th>median_rank</th>\n",
       "      <th>mean_rank</th>\n",
       "    </tr>\n",
       "  </thead>\n",
       "  <tbody>\n",
       "    <tr>\n",
       "      <th>316</th>\n",
       "      <td>Melbourne</td>\n",
       "      <td>3</td>\n",
       "      <td>190</td>\n",
       "      <td>13</td>\n",
       "      <td>1</td>\n",
       "      <td>34</td>\n",
       "      <td>79</td>\n",
       "      <td>6</td>\n",
       "      <td>125</td>\n",
       "      <td>10</td>\n",
       "      <td>...</td>\n",
       "      <td>98</td>\n",
       "      <td>9</td>\n",
       "      <td>778</td>\n",
       "      <td>682</td>\n",
       "      <td>1</td>\n",
       "      <td>1</td>\n",
       "      <td>1</td>\n",
       "      <td>1</td>\n",
       "      <td>9.5</td>\n",
       "      <td>102.50</td>\n",
       "    </tr>\n",
       "    <tr>\n",
       "      <th>40</th>\n",
       "      <td>South Yarra</td>\n",
       "      <td>8</td>\n",
       "      <td>36</td>\n",
       "      <td>5</td>\n",
       "      <td>4</td>\n",
       "      <td>17</td>\n",
       "      <td>31</td>\n",
       "      <td>14</td>\n",
       "      <td>8</td>\n",
       "      <td>10</td>\n",
       "      <td>...</td>\n",
       "      <td>659</td>\n",
       "      <td>665</td>\n",
       "      <td>1057</td>\n",
       "      <td>1265</td>\n",
       "      <td>3</td>\n",
       "      <td>3</td>\n",
       "      <td>10</td>\n",
       "      <td>3</td>\n",
       "      <td>12.5</td>\n",
       "      <td>201.80</td>\n",
       "    </tr>\n",
       "    <tr>\n",
       "      <th>51</th>\n",
       "      <td>Balwyn</td>\n",
       "      <td>12</td>\n",
       "      <td>53</td>\n",
       "      <td>8</td>\n",
       "      <td>14</td>\n",
       "      <td>14</td>\n",
       "      <td>14</td>\n",
       "      <td>14</td>\n",
       "      <td>3</td>\n",
       "      <td>54</td>\n",
       "      <td>...</td>\n",
       "      <td>107</td>\n",
       "      <td>75</td>\n",
       "      <td>1046</td>\n",
       "      <td>1271</td>\n",
       "      <td>57</td>\n",
       "      <td>8</td>\n",
       "      <td>10</td>\n",
       "      <td>18</td>\n",
       "      <td>16.0</td>\n",
       "      <td>149.70</td>\n",
       "    </tr>\n",
       "    <tr>\n",
       "      <th>41</th>\n",
       "      <td>Kew</td>\n",
       "      <td>11</td>\n",
       "      <td>9</td>\n",
       "      <td>6</td>\n",
       "      <td>17</td>\n",
       "      <td>30</td>\n",
       "      <td>40</td>\n",
       "      <td>1</td>\n",
       "      <td>8</td>\n",
       "      <td>54</td>\n",
       "      <td>...</td>\n",
       "      <td>65</td>\n",
       "      <td>32</td>\n",
       "      <td>1056</td>\n",
       "      <td>1270</td>\n",
       "      <td>57</td>\n",
       "      <td>8</td>\n",
       "      <td>10</td>\n",
       "      <td>18</td>\n",
       "      <td>17.5</td>\n",
       "      <td>144.05</td>\n",
       "    </tr>\n",
       "    <tr>\n",
       "      <th>47</th>\n",
       "      <td>Hawthorn</td>\n",
       "      <td>6</td>\n",
       "      <td>43</td>\n",
       "      <td>5</td>\n",
       "      <td>18</td>\n",
       "      <td>18</td>\n",
       "      <td>18</td>\n",
       "      <td>14</td>\n",
       "      <td>125</td>\n",
       "      <td>54</td>\n",
       "      <td>...</td>\n",
       "      <td>299</td>\n",
       "      <td>84</td>\n",
       "      <td>1049</td>\n",
       "      <td>1272</td>\n",
       "      <td>57</td>\n",
       "      <td>8</td>\n",
       "      <td>10</td>\n",
       "      <td>18</td>\n",
       "      <td>18.0</td>\n",
       "      <td>158.60</td>\n",
       "    </tr>\n",
       "    <tr>\n",
       "      <th>52</th>\n",
       "      <td>Glen Iris</td>\n",
       "      <td>12</td>\n",
       "      <td>13</td>\n",
       "      <td>6</td>\n",
       "      <td>10</td>\n",
       "      <td>12</td>\n",
       "      <td>15</td>\n",
       "      <td>6</td>\n",
       "      <td>8</td>\n",
       "      <td>54</td>\n",
       "      <td>...</td>\n",
       "      <td>659</td>\n",
       "      <td>665</td>\n",
       "      <td>1045</td>\n",
       "      <td>1257</td>\n",
       "      <td>57</td>\n",
       "      <td>26</td>\n",
       "      <td>10</td>\n",
       "      <td>76</td>\n",
       "      <td>20.5</td>\n",
       "      <td>208.45</td>\n",
       "    </tr>\n",
       "    <tr>\n",
       "      <th>43</th>\n",
       "      <td>Camberwell</td>\n",
       "      <td>12</td>\n",
       "      <td>5</td>\n",
       "      <td>6</td>\n",
       "      <td>70</td>\n",
       "      <td>70</td>\n",
       "      <td>70</td>\n",
       "      <td>60</td>\n",
       "      <td>8</td>\n",
       "      <td>10</td>\n",
       "      <td>...</td>\n",
       "      <td>111</td>\n",
       "      <td>24</td>\n",
       "      <td>1054</td>\n",
       "      <td>1259</td>\n",
       "      <td>57</td>\n",
       "      <td>26</td>\n",
       "      <td>10</td>\n",
       "      <td>76</td>\n",
       "      <td>25.0</td>\n",
       "      <td>147.40</td>\n",
       "    </tr>\n",
       "    <tr>\n",
       "      <th>6</th>\n",
       "      <td>Toorak</td>\n",
       "      <td>11</td>\n",
       "      <td>12</td>\n",
       "      <td>7</td>\n",
       "      <td>3</td>\n",
       "      <td>16</td>\n",
       "      <td>25</td>\n",
       "      <td>2</td>\n",
       "      <td>125</td>\n",
       "      <td>54</td>\n",
       "      <td>...</td>\n",
       "      <td>216</td>\n",
       "      <td>106</td>\n",
       "      <td>1091</td>\n",
       "      <td>1289</td>\n",
       "      <td>57</td>\n",
       "      <td>26</td>\n",
       "      <td>10</td>\n",
       "      <td>76</td>\n",
       "      <td>25.5</td>\n",
       "      <td>159.80</td>\n",
       "    </tr>\n",
       "    <tr>\n",
       "      <th>202</th>\n",
       "      <td>Essendon</td>\n",
       "      <td>14</td>\n",
       "      <td>51</td>\n",
       "      <td>11</td>\n",
       "      <td>16</td>\n",
       "      <td>75</td>\n",
       "      <td>102</td>\n",
       "      <td>14</td>\n",
       "      <td>29</td>\n",
       "      <td>1</td>\n",
       "      <td>...</td>\n",
       "      <td>39</td>\n",
       "      <td>27</td>\n",
       "      <td>895</td>\n",
       "      <td>1166</td>\n",
       "      <td>57</td>\n",
       "      <td>26</td>\n",
       "      <td>10</td>\n",
       "      <td>76</td>\n",
       "      <td>26.5</td>\n",
       "      <td>131.85</td>\n",
       "    </tr>\n",
       "    <tr>\n",
       "      <th>36</th>\n",
       "      <td>Armadale</td>\n",
       "      <td>9</td>\n",
       "      <td>32</td>\n",
       "      <td>5</td>\n",
       "      <td>26</td>\n",
       "      <td>26</td>\n",
       "      <td>27</td>\n",
       "      <td>6</td>\n",
       "      <td>125</td>\n",
       "      <td>54</td>\n",
       "      <td>...</td>\n",
       "      <td>217</td>\n",
       "      <td>121</td>\n",
       "      <td>1061</td>\n",
       "      <td>1248</td>\n",
       "      <td>57</td>\n",
       "      <td>26</td>\n",
       "      <td>10</td>\n",
       "      <td>76</td>\n",
       "      <td>27.5</td>\n",
       "      <td>159.00</td>\n",
       "    </tr>\n",
       "  </tbody>\n",
       "</table>\n",
       "<p>10 rows × 23 columns</p>\n",
       "</div>"
      ],
      "text/plain": [
       "          Suburb  education_rank  income_rank  occupation_rank  \\\n",
       "316    Melbourne               3          190               13   \n",
       "40   South Yarra               8           36                5   \n",
       "51        Balwyn              12           53                8   \n",
       "41           Kew              11            9                6   \n",
       "47      Hawthorn               6           43                5   \n",
       "52     Glen Iris              12           13                6   \n",
       "43    Camberwell              12            5                6   \n",
       "6         Toorak              11           12                7   \n",
       "202     Essendon              14           51               11   \n",
       "36      Armadale               9           32                5   \n",
       "\n",
       "     school_rank_min  school_rank_mean  school_rank_max  \\\n",
       "316                1                34               79   \n",
       "40                 4                17               31   \n",
       "51                14                14               14   \n",
       "41                17                30               40   \n",
       "47                18                18               18   \n",
       "52                10                12               15   \n",
       "43                70                70               70   \n",
       "6                  3                16               25   \n",
       "202               16                75              102   \n",
       "36                26                26               27   \n",
       "\n",
       "     schools_Combined_rank  schools_Primary_rank  schools_Secondary_rank  ...  \\\n",
       "316                      6                   125                      10  ...   \n",
       "40                      14                     8                      10  ...   \n",
       "51                      14                     3                      54  ...   \n",
       "41                       1                     8                      54  ...   \n",
       "47                      14                   125                      54  ...   \n",
       "52                       6                     8                      54  ...   \n",
       "43                      60                     8                      10  ...   \n",
       "6                        2                   125                      54  ...   \n",
       "202                     14                    29                       1  ...   \n",
       "36                       6                   125                      54  ...   \n",
       "\n",
       "     Bus_rank  Total Stations_rank  rent_rank_rank  sold_rank_rank  shop_rank  \\\n",
       "316        98                    9             778             682          1   \n",
       "40        659                  665            1057            1265          3   \n",
       "51        107                   75            1046            1271         57   \n",
       "41         65                   32            1056            1270         57   \n",
       "47        299                   84            1049            1272         57   \n",
       "52        659                  665            1045            1257         57   \n",
       "43        111                   24            1054            1259         57   \n",
       "6         216                  106            1091            1289         57   \n",
       "202        39                   27             895            1166         57   \n",
       "36        217                  121            1061            1248         57   \n",
       "\n",
       "     theater_rank  park_rank  entertainment_rank  median_rank  mean_rank  \n",
       "316             1          1                   1          9.5     102.50  \n",
       "40              3         10                   3         12.5     201.80  \n",
       "51              8         10                  18         16.0     149.70  \n",
       "41              8         10                  18         17.5     144.05  \n",
       "47              8         10                  18         18.0     158.60  \n",
       "52             26         10                  76         20.5     208.45  \n",
       "43             26         10                  76         25.0     147.40  \n",
       "6              26         10                  76         25.5     159.80  \n",
       "202            26         10                  76         26.5     131.85  \n",
       "36             26         10                  76         27.5     159.00  \n",
       "\n",
       "[10 rows x 23 columns]"
      ]
     },
     "execution_count": 35,
     "metadata": {},
     "output_type": "execute_result"
    }
   ],
   "source": [
    "liveability_features = ['education', 'income', 'occupation', 'school_min', 'school_mean', 'school_max',\n",
    " 'schools_Combined', 'schools_Primary', 'schools_Secondary', 'schools_total', 'Train', 'Tram',\n",
    " 'Bus', 'Total Stations', 'rent', 'sold', 'shop', 'theater', 'park', 'entertainment'\n",
    "]\n",
    "rank_cols = [\n",
    "    'education_rank','income_rank','occupation_rank','school_rank_min',\n",
    "    'school_rank_mean','school_rank_max', 'schools_Combined_rank', 'schools_Primary_rank',\n",
    "    'schools_Secondary_rank', 'schools_total_rank', 'Train_rank',\n",
    "    'Tram_rank', 'Bus_rank', 'Total Stations_rank', 'rent_rank_rank', 'sold_rank_rank',\n",
    "    'shop_rank','theater_rank','park_rank','entertainment_rank'\n",
    "]\n",
    "agg_rank = sub[['Suburb'] + rank_cols].copy()\n",
    "\n",
    "agg_rank[rank_cols] = agg_rank[rank_cols].fillna(agg_rank[rank_cols].mean().round(0)).astype(int)\n",
    "agg_rank['median_rank'] = agg_rank[rank_cols].quantile(0.5, axis=1)\n",
    "agg_rank['mean_rank'] = agg_rank[rank_cols].mean(axis=1)\n",
    "agg_rank.nsmallest(10, 'median_rank')"
   ]
  },
  {
   "cell_type": "code",
   "execution_count": null,
   "id": "particular-instrument",
   "metadata": {},
   "outputs": [],
   "source": [
    "from sklearn.decomposition import PCA\n",
    "reducer = PCA(n_components=2)\n",
    "pct_pca = pd.DataFrame(reducer.fit_transform(pct[pct_cols]), columns=['PC_1', 'PC_2'])\n",
    "pct_pca['Suburb'] = pct['Suburb']\n",
    "plt.subplots(1,1,figsize=(20,7))\n",
    "sns.scatterplot(data=pct_pca, x='PC_1', y='PC_2', color='black', alpha=0.2)#, hue='Suburb')\n",
    "sns.scatterplot(data=pct_pca.loc[pct_pca['Suburb'].isin(agg_rank.nsmallest(10, 'median_rank')['Suburb'])], x='PC_1', y='PC_2', hue='Suburb')"
   ]
  },
  {
   "cell_type": "code",
   "execution_count": null,
   "id": "champion-bacon",
   "metadata": {},
   "outputs": [],
   "source": [
    "# fig, ax = plt.subplots(1,1,figsize=(20,5))\n",
    "sns.pairplot(sub, x_vars=['rented', 'rented_rank', 'education', 'education_rank',\n",
    "       'turnover', 'turnover_rank', 'owned', 'owned_rank', 'houses',\n",
    "       'houses_rank', 'income', 'income_rank', 'sold', 'sold_rank'], y_vars = ['rent_rank'])\n",
    "plt.show()\n",
    "sns.pairplot(sub, x_vars=['occupation', 'occupation_rank', 'flats', 'flats_rank',\n",
    "       'purchased', 'purchased_rank', 'schools_Combined', 'schools_Primary',\n",
    "       'schools_Secondary', 'schools_total', 'school_rank_min',\n",
    "       'school_rank_mean', 'school_rank_max'], y_vars = ['rent_rank'])"
   ]
  },
  {
   "cell_type": "code",
   "execution_count": null,
   "id": "related-bulgaria",
   "metadata": {},
   "outputs": [],
   "source": [
    "from sklearn.preprocessing import StandardScaler\n",
    "from sklearn.linear_model import Lasso\n",
    "from sklearn.pipeline import Pipeline\n",
    "\n",
    "clf = Pipeline([StandardScaler(), Lass()])\n",
    "clf.fit()"
   ]
  },
  {
   "cell_type": "code",
   "execution_count": null,
   "id": "fitting-newfoundland",
   "metadata": {},
   "outputs": [],
   "source": [
    "plt.subplots(1,1,figsize=(10,7))\n",
    "sns.heatmap(sub.corr(method='spearman'))"
   ]
  },
  {
   "cell_type": "code",
   "execution_count": null,
   "id": "coated-wright",
   "metadata": {},
   "outputs": [],
   "source": [
    "schools_all = pd.read_excel('../data/raw/abs_data/education.xlsx', sheet_name = 3, skiprows = 4)\n",
    "\n",
    "schools = schools_all.loc[schools_all['State/Territory'] == 'b Vic.']"
   ]
  },
  {
   "cell_type": "code",
   "execution_count": null,
   "id": "under-bangladesh",
   "metadata": {},
   "outputs": [],
   "source": [
    "schools"
   ]
  }
 ],
 "metadata": {
  "kernelspec": {
   "display_name": "Python 3",
   "language": "python",
   "name": "python3"
  },
  "language_info": {
   "codemirror_mode": {
    "name": "ipython",
    "version": 3
   },
   "file_extension": ".py",
   "mimetype": "text/x-python",
   "name": "python",
   "nbconvert_exporter": "python",
   "pygments_lexer": "ipython3",
   "version": "3.9.2"
  },
  "toc": {
   "base_numbering": 1,
   "nav_menu": {},
   "number_sections": true,
   "sideBar": true,
   "skip_h1_title": false,
   "title_cell": "Table of Contents",
   "title_sidebar": "Contents",
   "toc_cell": false,
   "toc_position": {},
   "toc_section_display": true,
   "toc_window_display": false
  }
 },
 "nbformat": 4,
 "nbformat_minor": 5
}
